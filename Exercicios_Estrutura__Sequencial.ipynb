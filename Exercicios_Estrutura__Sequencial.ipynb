{
  "nbformat": 4,
  "nbformat_minor": 0,
  "metadata": {
    "colab": {
      "name": "Exercicios_Estrutura_ Sequencial",
      "provenance": [],
      "authorship_tag": "ABX9TyPxOEjl8REa4mIUqWHnZlcc",
      "include_colab_link": true
    },
    "kernelspec": {
      "name": "python3",
      "display_name": "Python 3"
    }
  },
  "cells": [
    {
      "cell_type": "markdown",
      "metadata": {
        "id": "view-in-github",
        "colab_type": "text"
      },
      "source": [
        "<a href=\"https://colab.research.google.com/github/marianamrtns/praticas/blob/master/Exercicios_Estrutura__Sequencial.ipynb\" target=\"_parent\"><img src=\"https://colab.research.google.com/assets/colab-badge.svg\" alt=\"Open In Colab\"/></a>"
      ]
    },
    {
      "cell_type": "code",
      "metadata": {
        "id": "FrK4yXAg9lxq",
        "colab_type": "code",
        "colab": {}
      },
      "source": [
        "import pandas as pd"
      ],
      "execution_count": 0,
      "outputs": []
    },
    {
      "cell_type": "markdown",
      "metadata": {
        "id": "doJD5P5b9yqY",
        "colab_type": "text"
      },
      "source": [
        "1. Programa que mostra a mensagem 'Alô Mundo' na tela"
      ]
    },
    {
      "cell_type": "code",
      "metadata": {
        "id": "1NjYg5Hy9t1G",
        "colab_type": "code",
        "outputId": "cacc9914-0265-45d9-dae7-c6df035687d5",
        "colab": {
          "base_uri": "https://localhost:8080/",
          "height": 34
        }
      },
      "source": [
        "print('Alô Mundo')"
      ],
      "execution_count": 0,
      "outputs": [
        {
          "output_type": "stream",
          "text": [
            "Alô Mundo\n"
          ],
          "name": "stdout"
        }
      ]
    },
    {
      "cell_type": "markdown",
      "metadata": {
        "id": "wfTQW9UJ-Cn0",
        "colab_type": "text"
      },
      "source": [
        "2. Programa que peça um número e mostre a mensagem *O número informado foi [número]*"
      ]
    },
    {
      "cell_type": "code",
      "metadata": {
        "id": "0SJDUCP3-AKO",
        "colab_type": "code",
        "outputId": "87ff4fc0-1c42-462c-c791-6d59b9b72fe9",
        "colab": {
          "base_uri": "https://localhost:8080/",
          "height": 51
        }
      },
      "source": [
        "num = float(input(\"Digite um número:\"))\n",
        "print(\"O número informado foi\", num)"
      ],
      "execution_count": 0,
      "outputs": [
        {
          "output_type": "stream",
          "text": [
            "Digite um número:5\n",
            "O número informado foi 5.0\n"
          ],
          "name": "stdout"
        }
      ]
    },
    {
      "cell_type": "code",
      "metadata": {
        "id": "r1UB55GQ_M9i",
        "colab_type": "code",
        "outputId": "d7fcfa28-b163-4788-93f0-5c1bae110f04",
        "colab": {
          "base_uri": "https://localhost:8080/",
          "height": 51
        }
      },
      "source": [
        "num = float(input(\"Digite um número:\"))\n",
        "print(\"O número informado foi\", num)"
      ],
      "execution_count": 0,
      "outputs": [
        {
          "output_type": "stream",
          "text": [
            "Digite um número:5\n",
            "O número informado foi 5.0\n"
          ],
          "name": "stdout"
        }
      ]
    },
    {
      "cell_type": "markdown",
      "metadata": {
        "id": "U4Q_WEiNCRVY",
        "colab_type": "text"
      },
      "source": [
        "3. Programa que peça dois números e imprima a soma"
      ]
    },
    {
      "cell_type": "code",
      "metadata": {
        "id": "MLZEAp_y_QuX",
        "colab_type": "code",
        "outputId": "0e278844-a859-4176-cb66-c3b7d3371297",
        "colab": {
          "base_uri": "https://localhost:8080/",
          "height": 68
        }
      },
      "source": [
        "a = float(input('Digite o primeiro número:'))\n",
        "b = float(input('Digite o segundo número:'))\n",
        "c = a + b\n",
        "\n",
        "print('{} + {} = {}'.format(a, b, c))"
      ],
      "execution_count": 0,
      "outputs": [
        {
          "output_type": "stream",
          "text": [
            "Digite o primeiro número:5\n",
            "Digite o segundo número:5\n",
            "5.0 + 5.0 = 10.0\n"
          ],
          "name": "stdout"
        }
      ]
    },
    {
      "cell_type": "code",
      "metadata": {
        "id": "IakUB0CnSgWW",
        "colab_type": "code",
        "outputId": "5374a514-2998-4e11-d0d8-0cafefe14933",
        "colab": {
          "base_uri": "https://localhost:8080/",
          "height": 68
        }
      },
      "source": [
        "a = float(input('Digite o primeiro número:'))\n",
        "b = float(input('Digite o segundo número:'))\n",
        "c = a + b\n",
        "\n",
        "print('{} + {} = {}'.format(a, b, c))"
      ],
      "execution_count": 0,
      "outputs": [
        {
          "output_type": "stream",
          "text": [
            "Digite o primeiro número:5\n",
            "Digite o segundo número:5\n",
            "5.0 + 5.0 = 10.0\n"
          ],
          "name": "stdout"
        }
      ]
    },
    {
      "cell_type": "markdown",
      "metadata": {
        "id": "nH2XvgXr_X5x",
        "colab_type": "text"
      },
      "source": [
        "4. Programa que peça as 4 notas bimestrais e mostre a média"
      ]
    },
    {
      "cell_type": "code",
      "metadata": {
        "id": "-I4VRIEfSvLQ",
        "colab_type": "code",
        "outputId": "4db04b7e-7e00-4555-ac51-6d9f2e4e6d1e",
        "colab": {
          "base_uri": "https://localhost:8080/",
          "height": 102
        }
      },
      "source": [
        "bim1 = float(input('Qual foi a nota do 1° bimestre?'))\n",
        "bim2 = float(input('Qual foi a nota do 2° bimestre?'))\n",
        "bim3 = float(input('Qual foi a nota do 3° bimestre?'))\n",
        "bim4 = float(input('Qual foi a nota do 4° bimestre?'))\n",
        "media = (bim1  + bim2 + bim3 + bim4)/4\n",
        "\n",
        "print('A média do aluno foi {}'.format(media))"
      ],
      "execution_count": 0,
      "outputs": [
        {
          "output_type": "stream",
          "text": [
            "Qual foi a nota do 1° bimestre?5\n",
            "Qual foi a nota do 2° bimestre?5\n",
            "Qual foi a nota do 3° bimestre?5\n",
            "Qual foi a nota do 4° bimestre?5\n",
            "A média do aluno foi 5.0\n"
          ],
          "name": "stdout"
        }
      ]
    },
    {
      "cell_type": "code",
      "metadata": {
        "id": "rqGGf6cgTS6L",
        "colab_type": "code",
        "outputId": "ee101f49-2448-4dac-dfbe-d0ee343b2d3d",
        "colab": {
          "base_uri": "https://localhost:8080/",
          "height": 102
        }
      },
      "source": [
        "bim1 = float(input('Qual foi a nota do 1° bimestre?'))\n",
        "bim2 = float(input('Qual foi a nota do 2° bimestre?'))\n",
        "bim3 = float(input('Qual foi a nota do 3° bimestre?'))\n",
        "bim4 = float(input('Qual foi a nota do 4° bimestre?'))\n",
        "media = (bim1  + bim2 + bim3 + bim4)/4\n",
        "\n",
        "print('A média do aluno foi {}'.format(media))"
      ],
      "execution_count": 0,
      "outputs": [
        {
          "output_type": "stream",
          "text": [
            "Qual foi a nota do 1° bimestre?6\n",
            "Qual foi a nota do 2° bimestre?8\n",
            "Qual foi a nota do 3° bimestre?9\n",
            "Qual foi a nota do 4° bimestre?2\n",
            "A média do aluno foi 6.25\n"
          ],
          "name": "stdout"
        }
      ]
    },
    {
      "cell_type": "markdown",
      "metadata": {
        "id": "kyiCpXjyTkIM",
        "colab_type": "text"
      },
      "source": [
        "5. Programa que converte metros para centímetros"
      ]
    },
    {
      "cell_type": "code",
      "metadata": {
        "id": "jRxTc8cGTaUK",
        "colab_type": "code",
        "outputId": "c9c8e6e0-38e0-4939-f5ae-6ae9c48f07d9",
        "colab": {
          "base_uri": "https://localhost:8080/",
          "height": 51
        }
      },
      "source": [
        "metros = float(input('Digite o valor em metros:'))\n",
        "cent = metros*100\n",
        "\n",
        "print('{} metros é igual à {} centímetros.'.format(metros, cent))"
      ],
      "execution_count": 0,
      "outputs": [
        {
          "output_type": "stream",
          "text": [
            "Digite o valor em metros:1.5\n",
            "1.5 metros é igual à 150.0 centímetros.\n"
          ],
          "name": "stdout"
        }
      ]
    },
    {
      "cell_type": "code",
      "metadata": {
        "id": "Q4noJ1lvUJvi",
        "colab_type": "code",
        "outputId": "a8fe55f7-8df7-425f-8930-c47e34055c14",
        "colab": {
          "base_uri": "https://localhost:8080/",
          "height": 51
        }
      },
      "source": [
        "metros = float(input('Digite o valor em metros:'))\n",
        "cent = metros*100\n",
        "\n",
        "print('{} metros é igual à {} centímetros.'.format(metros, cent))"
      ],
      "execution_count": 0,
      "outputs": [
        {
          "output_type": "stream",
          "text": [
            "Digite o valor em metros:2\n",
            "2.0 metros é igual à 200.0 centímetros.\n"
          ],
          "name": "stdout"
        }
      ]
    },
    {
      "cell_type": "markdown",
      "metadata": {
        "id": "sArCL1hUUXXl",
        "colab_type": "text"
      },
      "source": [
        "6. Programa que peça o raio do círculo, calcule e mostre a área"
      ]
    },
    {
      "cell_type": "code",
      "metadata": {
        "id": "R1VIYRqbUSci",
        "colab_type": "code",
        "outputId": "c8e83209-4140-4a1c-9105-4b77b0f0e4a5",
        "colab": {
          "base_uri": "https://localhost:8080/",
          "height": 51
        }
      },
      "source": [
        "raio = float(input('Qual o raio do círculo?'))\n",
        "area = 3.14159*raio*raio\n",
        "print('O círculo de raio {} tem área total igual à {:.2f}'.format(raio, area))"
      ],
      "execution_count": 0,
      "outputs": [
        {
          "output_type": "stream",
          "text": [
            "Qual o raio do círculo?10\n",
            "O círculo de raio 10.0 tem área total igual à 314.16\n"
          ],
          "name": "stdout"
        }
      ]
    },
    {
      "cell_type": "code",
      "metadata": {
        "id": "kZNizrXFUkoL",
        "colab_type": "code",
        "outputId": "21d06bbb-02fe-4edd-ebb4-494e93b58f9d",
        "colab": {
          "base_uri": "https://localhost:8080/",
          "height": 51
        }
      },
      "source": [
        "raio = float(input('Qual o raio do círculo?'))\n",
        "area = 3.14159*(raio*raio)\n",
        "print('O círculo de raio {} tem área total igual à {:.2f}'.format(raio, area))"
      ],
      "execution_count": 0,
      "outputs": [
        {
          "output_type": "stream",
          "text": [
            "Qual o raio do círculo?10\n",
            "O círculo de raio 10.0 tem área total igual à 314.16\n"
          ],
          "name": "stdout"
        }
      ]
    },
    {
      "cell_type": "markdown",
      "metadata": {
        "id": "e_DO-NV6WZXE",
        "colab_type": "text"
      },
      "source": [
        "7. Programa que calcula a área de um quadrado e mostra o dobro dessa área"
      ]
    },
    {
      "cell_type": "code",
      "metadata": {
        "id": "bsWPMcnLVLNi",
        "colab_type": "code",
        "outputId": "d595c21d-ee9f-4fcb-d713-a8956ba21204",
        "colab": {
          "base_uri": "https://localhost:8080/",
          "height": 68
        }
      },
      "source": [
        "lado = float(input('Digite o valor do lado do quadrado:'))\n",
        "area = lado*lado\n",
        "area2 = area*2\n",
        "print('A área do quadrado é de {}.'.format(area))\n",
        "print('O dobro da área do quadrado é de {}.'.format(area2))"
      ],
      "execution_count": 0,
      "outputs": [
        {
          "output_type": "stream",
          "text": [
            "Digite o valor do lado do quadrado:10\n",
            "A área do quadrado é de 100.0.\n",
            "O dobro da área do quadrado é de 200.0.\n"
          ],
          "name": "stdout"
        }
      ]
    },
    {
      "cell_type": "code",
      "metadata": {
        "id": "bmwxp1YCa_hp",
        "colab_type": "code",
        "outputId": "5f3f817e-2846-4445-e647-1184aed5dda9",
        "colab": {
          "base_uri": "https://localhost:8080/",
          "height": 68
        }
      },
      "source": [
        "lado = float(input('Digite o valor do lado do quadrado:'))\n",
        "area = lado*lado\n",
        "area2 = area*2\n",
        "print('A área do quadrado é de {}.'.format(area))\n",
        "print('O dobro da área do quadrado é de {}.'.format(area2))"
      ],
      "execution_count": 0,
      "outputs": [
        {
          "output_type": "stream",
          "text": [
            "Digite o valor do lado do quadrado:10\n",
            "A área do quadrado é de 100.0.\n",
            "O dobro da área do quadrado é de 200.0.\n"
          ],
          "name": "stdout"
        }
      ]
    },
    {
      "cell_type": "code",
      "metadata": {
        "id": "P1aUvN0tbGqs",
        "colab_type": "code",
        "outputId": "ce2cf055-e35c-4f11-89cb-8d65adb05c5c",
        "colab": {
          "base_uri": "https://localhost:8080/",
          "height": 68
        }
      },
      "source": [
        "lado = float(input('Digite o valor do lado do quadrado:'))\n",
        "area = lado*lado\n",
        "area2 = area*2\n",
        "print('A área do quadrado é de {}.'.format(area))\n",
        "print('O dobro da área do quadrado é de {}.'.format(area2))"
      ],
      "execution_count": 0,
      "outputs": [
        {
          "output_type": "stream",
          "text": [
            "Digite o valor do lado do quadrado:10\n",
            "A área do quadrado é de 100.0.\n",
            "O dobro da área do quadrado é de 200.0.\n"
          ],
          "name": "stdout"
        }
      ]
    },
    {
      "cell_type": "markdown",
      "metadata": {
        "id": "kBK0FfoubS-y",
        "colab_type": "text"
      },
      "source": [
        "8. Programa que pergunta o valor por hora de trabalho e o número de horas trabalhadas no mês. Mostre o total do salário no mês"
      ]
    },
    {
      "cell_type": "code",
      "metadata": {
        "id": "R1pHoWHQbI7m",
        "colab_type": "code",
        "outputId": "e6992432-b2ec-415b-c731-be95f727286c",
        "colab": {
          "base_uri": "https://localhost:8080/",
          "height": 68
        }
      },
      "source": [
        "valor_hora = float(input('Digite o valor da hora de trabalho:'))\n",
        "hora_trab = float(input('Digite o total de horas trabalhadas:'))\n",
        "salario = valor_hora * hora_trab\n",
        "\n",
        "print('Seu salário será de R$ {}'.format(salario))"
      ],
      "execution_count": 0,
      "outputs": [
        {
          "output_type": "stream",
          "text": [
            "Digite o valor da hora de trabalho:10\n",
            "Digite o total de horas trabalhadas:150\n",
            "Seu salário será de R$ 1500.0\n"
          ],
          "name": "stdout"
        }
      ]
    },
    {
      "cell_type": "code",
      "metadata": {
        "id": "MsCZlOHLdTmC",
        "colab_type": "code",
        "outputId": "7bd26eb0-d4e8-4538-829e-d63a4f219d2c",
        "colab": {
          "base_uri": "https://localhost:8080/",
          "height": 68
        }
      },
      "source": [
        "valor_hora = float(input('Digite o valor da hora de trabalho:'))\n",
        "hora_trab = float(input('Digite o total de horas trabalhadas:'))\n",
        "salario = valor_hora * hora_trab\n",
        "\n",
        "print('Seu salário será de R$ {}'.format(salario))"
      ],
      "execution_count": 0,
      "outputs": [
        {
          "output_type": "stream",
          "text": [
            "Digite o valor da hora de trabalho:9\n",
            "Digite o total de horas trabalhadas:150\n",
            "Seu salário será de R$ 1350.0\n"
          ],
          "name": "stdout"
        }
      ]
    },
    {
      "cell_type": "code",
      "metadata": {
        "id": "2iICZoKEdZwV",
        "colab_type": "code",
        "outputId": "703891ca-a628-4ba1-fa4b-831173f1aa9e",
        "colab": {
          "base_uri": "https://localhost:8080/",
          "height": 68
        }
      },
      "source": [
        "valor_hora = float(input('Digite o valor da hora de trabalho:'))\n",
        "hora_trab = float(input('Digite o total de horas trabalhadas:'))\n",
        "salario = valor_hora * hora_trab\n",
        "\n",
        "print('Seu salário será de R$ {}'.format(salario))"
      ],
      "execution_count": 0,
      "outputs": [
        {
          "output_type": "stream",
          "text": [
            "Digite o valor da hora de trabalho:5\n",
            "Digite o total de horas trabalhadas:150\n",
            "Seu salário será de R$ 750.0\n"
          ],
          "name": "stdout"
        }
      ]
    },
    {
      "cell_type": "code",
      "metadata": {
        "id": "sXFzRnOsdeI7",
        "colab_type": "code",
        "outputId": "c569fa6b-5ac4-40c7-cc65-a9d0f9cf1eb5",
        "colab": {
          "base_uri": "https://localhost:8080/",
          "height": 68
        }
      },
      "source": [
        "valor_hora = float(input('Digite o valor da hora de trabalho:'))\n",
        "hora_trab = float(input('Digite o total de horas trabalhadas:'))\n",
        "salario = valor_hora * hora_trab\n",
        "\n",
        "print('Seu salário será de R$ {}'.format(salario))"
      ],
      "execution_count": 0,
      "outputs": [
        {
          "output_type": "stream",
          "text": [
            "Digite o valor da hora de trabalho:5\n",
            "Digite o total de horas trabalhadas:180\n",
            "Seu salário será de R$ 900.0\n"
          ],
          "name": "stdout"
        }
      ]
    },
    {
      "cell_type": "markdown",
      "metadata": {
        "id": "M_jyvWbScEUB",
        "colab_type": "text"
      },
      "source": [
        "9. Programa que converte a temperatura de graus Farenheit para graus Celsius"
      ]
    },
    {
      "cell_type": "code",
      "metadata": {
        "id": "yIy9a3YqcD0W",
        "colab_type": "code",
        "outputId": "4a01c3dc-2b80-4065-f0ee-5a645e427b71",
        "colab": {
          "base_uri": "https://localhost:8080/",
          "height": 51
        }
      },
      "source": [
        "grausF = float(input('Digite a temperatura em graus Farenheit:'))\n",
        "grausC = 5*((grausF - 32)/9)\n",
        "print('{}° Farenheit equivale à {:.1f}° Celsius'.format(grausF, grausC))"
      ],
      "execution_count": 0,
      "outputs": [
        {
          "output_type": "stream",
          "text": [
            "Digite a temperatura em graus Farenheit:45\n",
            "45.0° Farenheit equivale à 7.2° Celsius\n"
          ],
          "name": "stdout"
        }
      ]
    },
    {
      "cell_type": "code",
      "metadata": {
        "id": "ffRiqRK4ejcn",
        "colab_type": "code",
        "outputId": "d3b4e05b-329c-4f8c-928a-573878f02c81",
        "colab": {
          "base_uri": "https://localhost:8080/",
          "height": 51
        }
      },
      "source": [
        "grausF = float(input('Digite a temperatura em graus Farenheit:'))\n",
        "grausC = 5*((grausF - 32)/9)\n",
        "print('{}° Farenheit equivale à {:.1f}° Celsius'.format(grausF, grausC))"
      ],
      "execution_count": 0,
      "outputs": [
        {
          "output_type": "stream",
          "text": [
            "Digite a temperatura em graus Farenheit:80\n",
            "80.0° Farenheit equivale à 26.7° Celsius\n"
          ],
          "name": "stdout"
        }
      ]
    },
    {
      "cell_type": "code",
      "metadata": {
        "id": "gz7ktM4KexsS",
        "colab_type": "code",
        "outputId": "73f46ff6-d2d9-4804-b22d-aaf97ff85c5a",
        "colab": {
          "base_uri": "https://localhost:8080/",
          "height": 51
        }
      },
      "source": [
        "grausF = float(input('Digite a temperatura em graus Farenheit:'))\n",
        "grausC = 5*((grausF - 32)/9)\n",
        "print('{}° Farenheit equivale à {:.1f}° Celsius'.format(grausF, grausC))"
      ],
      "execution_count": 0,
      "outputs": [
        {
          "output_type": "stream",
          "text": [
            "Digite a temperatura em graus Farenheit:90\n",
            "90.0° Farenheit equivale à 32.2° Celsius\n"
          ],
          "name": "stdout"
        }
      ]
    },
    {
      "cell_type": "markdown",
      "metadata": {
        "id": "nQlxqgpBe5hQ",
        "colab_type": "text"
      },
      "source": [
        "10. Programa que converte a temperatura de graus Celsius para graus Farenheit"
      ]
    },
    {
      "cell_type": "code",
      "metadata": {
        "id": "4wdZrhK8et6V",
        "colab_type": "code",
        "outputId": "40286cd9-d66d-4b85-bee4-be3bc7d12a30",
        "colab": {
          "base_uri": "https://localhost:8080/",
          "height": 51
        }
      },
      "source": [
        "grausc = float(input('Digite a temperatura em graus Celsius:'))\n",
        "grausf = ((9*grausc)/5)+32\n",
        "print('{}° Celsius equivale à {:.1f}° Farenheit'.format(grausc, grausf))"
      ],
      "execution_count": 0,
      "outputs": [
        {
          "output_type": "stream",
          "text": [
            "Digite a temperatura em graus Celsius:32\n",
            "32.0° Celsius equivale à 89.6° Farenheit\n"
          ],
          "name": "stdout"
        }
      ]
    },
    {
      "cell_type": "code",
      "metadata": {
        "id": "nTuBiTgzf48R",
        "colab_type": "code",
        "outputId": "1b07caa3-11b7-42ca-9882-b2f473e41245",
        "colab": {
          "base_uri": "https://localhost:8080/",
          "height": 51
        }
      },
      "source": [
        "grausc = float(input('Digite a temperatura em graus Celsius:'))\n",
        "grausf = ((9*grausc)/5)+32\n",
        "print('{}° Celsius equivale à {:.1f}° Farenheit'.format(grausc, grausf))"
      ],
      "execution_count": 0,
      "outputs": [
        {
          "output_type": "stream",
          "text": [
            "Digite a temperatura em graus Celsius:45\n",
            "45.0° Celsius equivale à 113.0° Farenheit\n"
          ],
          "name": "stdout"
        }
      ]
    },
    {
      "cell_type": "code",
      "metadata": {
        "id": "9CDDHtvcf96k",
        "colab_type": "code",
        "outputId": "27eb2d6c-f9a9-4872-e240-5759a7bc2f48",
        "colab": {
          "base_uri": "https://localhost:8080/",
          "height": 51
        }
      },
      "source": [
        "grausc = float(input('Digite a temperatura em graus Celsius:'))\n",
        "grausf = ((9*grausc)/5)+32\n",
        "print('{}° Celsius equivale à {:.1f}° Farenheit'.format(grausc, grausf))"
      ],
      "execution_count": 0,
      "outputs": [
        {
          "output_type": "stream",
          "text": [
            "Digite a temperatura em graus Celsius:15\n",
            "15.0° Celsius equivale à 59.0° Farenheit\n"
          ],
          "name": "stdout"
        }
      ]
    },
    {
      "cell_type": "markdown",
      "metadata": {
        "id": "3OdSTFmDgYc6",
        "colab_type": "text"
      },
      "source": [
        "11. Programa que peça 2 números inteiros e um real.\n",
        "\n",
        "a) Mostre o produto do dobro do primeiro com a metade do segundo"
      ]
    },
    {
      "cell_type": "code",
      "metadata": {
        "id": "icNe0qfxgChH",
        "colab_type": "code",
        "outputId": "1e3bf609-ef61-4edc-ee70-010a8c84651c",
        "colab": {
          "base_uri": "https://localhost:8080/",
          "height": 68
        }
      },
      "source": [
        "num1 = int(input('Digite o primeiro número inteiro:'))\n",
        "num2 = int(input('Digite o segundo número inteiro:'))\n",
        "prod = (num1*2) * (num2/2)\n",
        "print('O produto do dobro de {} com a metade de {} é igual à {:.2f}.'.format(num1, num2, prod))"
      ],
      "execution_count": 0,
      "outputs": [
        {
          "output_type": "stream",
          "text": [
            "Digite o primeiro número inteiro:5\n",
            "Digite o segundo número inteiro:6\n",
            "O produto do dobro de 5 com a metade de 6 é igual à 30.00.\n"
          ],
          "name": "stdout"
        }
      ]
    },
    {
      "cell_type": "code",
      "metadata": {
        "id": "8UcZAnWthtEw",
        "colab_type": "code",
        "outputId": "11dcba63-64ce-4178-9518-4b6231aa2310",
        "colab": {
          "base_uri": "https://localhost:8080/",
          "height": 68
        }
      },
      "source": [
        "num1 = int(input('Digite o primeiro número inteiro:'))\n",
        "num2 = int(input('Digite o segundo número inteiro:'))\n",
        "prod = (num1*2) * (num2/2)\n",
        "print('O produto do dobro de {} com a metade de {} é igual à {:.2f}.'.format(num1, num2, prod))"
      ],
      "execution_count": 0,
      "outputs": [
        {
          "output_type": "stream",
          "text": [
            "Digite o primeiro número inteiro:4\n",
            "Digite o segundo número inteiro:2\n",
            "O produto do dobro de 4 com a metade de 2 é igual à 8.00.\n"
          ],
          "name": "stdout"
        }
      ]
    },
    {
      "cell_type": "code",
      "metadata": {
        "id": "ybKMAIM7hzhK",
        "colab_type": "code",
        "outputId": "632f25ad-b110-422f-f010-dbaf27dbcb76",
        "colab": {
          "base_uri": "https://localhost:8080/",
          "height": 68
        }
      },
      "source": [
        "num1 = int(input('Digite o primeiro número inteiro:'))\n",
        "num2 = int(input('Digite o segundo número inteiro:'))\n",
        "prod = (num1*2) * (num2/2)\n",
        "print('O produto do dobro de {} com a metade de {} é igual à {:.2f}.'.format(num1, num2, prod))"
      ],
      "execution_count": 0,
      "outputs": [
        {
          "output_type": "stream",
          "text": [
            "Digite o primeiro número inteiro:6\n",
            "Digite o segundo número inteiro:3\n",
            "O produto do dobro de 6 com a metade de 3 é igual à 18.00.\n"
          ],
          "name": "stdout"
        }
      ]
    },
    {
      "cell_type": "markdown",
      "metadata": {
        "id": "YafW21bvieyz",
        "colab_type": "text"
      },
      "source": [
        "b) Mostre a soma do triplo primeiro com o terceiro"
      ]
    },
    {
      "cell_type": "code",
      "metadata": {
        "id": "mzL0wahdirey",
        "colab_type": "code",
        "outputId": "3d6e148e-122c-4464-d516-dcae8494f35c",
        "colab": {
          "base_uri": "https://localhost:8080/",
          "height": 248
        }
      },
      "source": [
        "num1 = int(input('Digite o primeiro número inteiro:'))\n",
        "num3 = float(input('Digite o terceiro número real:'))\n",
        "soma = (num1*3) + num3\n",
        "print('A soma do triplo de {} com {} é igual à {:.2f}.'.format(num1, num3, soma))"
      ],
      "execution_count": 0,
      "outputs": [
        {
          "output_type": "stream",
          "text": [
            "Digite o primeiro número inteiro:1\n",
            "Digite o terceiro número real:\n"
          ],
          "name": "stdout"
        },
        {
          "output_type": "error",
          "ename": "ValueError",
          "evalue": "ignored",
          "traceback": [
            "\u001b[0;31m---------------------------------------------------------------------------\u001b[0m",
            "\u001b[0;31mValueError\u001b[0m                                Traceback (most recent call last)",
            "\u001b[0;32m<ipython-input-37-0b7f8c71898b>\u001b[0m in \u001b[0;36m<module>\u001b[0;34m()\u001b[0m\n\u001b[1;32m      1\u001b[0m \u001b[0mnum1\u001b[0m \u001b[0;34m=\u001b[0m \u001b[0mint\u001b[0m\u001b[0;34m(\u001b[0m\u001b[0minput\u001b[0m\u001b[0;34m(\u001b[0m\u001b[0;34m'Digite o primeiro número inteiro:'\u001b[0m\u001b[0;34m)\u001b[0m\u001b[0;34m)\u001b[0m\u001b[0;34m\u001b[0m\u001b[0;34m\u001b[0m\u001b[0m\n\u001b[0;32m----> 2\u001b[0;31m \u001b[0mnum3\u001b[0m \u001b[0;34m=\u001b[0m \u001b[0mfloat\u001b[0m\u001b[0;34m(\u001b[0m\u001b[0minput\u001b[0m\u001b[0;34m(\u001b[0m\u001b[0;34m'Digite o terceiro número real:'\u001b[0m\u001b[0;34m)\u001b[0m\u001b[0;34m)\u001b[0m\u001b[0;34m\u001b[0m\u001b[0;34m\u001b[0m\u001b[0m\n\u001b[0m\u001b[1;32m      3\u001b[0m \u001b[0msoma\u001b[0m \u001b[0;34m=\u001b[0m \u001b[0;34m(\u001b[0m\u001b[0mnum1\u001b[0m\u001b[0;34m*\u001b[0m\u001b[0;36m3\u001b[0m\u001b[0;34m)\u001b[0m \u001b[0;34m+\u001b[0m \u001b[0mnum3\u001b[0m\u001b[0;34m\u001b[0m\u001b[0;34m\u001b[0m\u001b[0m\n\u001b[1;32m      4\u001b[0m \u001b[0mprint\u001b[0m\u001b[0;34m(\u001b[0m\u001b[0;34m'A soma do triplo de {} com {} é igual à {:.2f}.'\u001b[0m\u001b[0;34m.\u001b[0m\u001b[0mformat\u001b[0m\u001b[0;34m(\u001b[0m\u001b[0mnum1\u001b[0m\u001b[0;34m,\u001b[0m \u001b[0mnum3\u001b[0m\u001b[0;34m,\u001b[0m \u001b[0msoma\u001b[0m\u001b[0;34m)\u001b[0m\u001b[0;34m)\u001b[0m\u001b[0;34m\u001b[0m\u001b[0;34m\u001b[0m\u001b[0m\n",
            "\u001b[0;31mValueError\u001b[0m: could not convert string to float: "
          ]
        }
      ]
    },
    {
      "cell_type": "code",
      "metadata": {
        "id": "l84v9fnliD2i",
        "colab_type": "code",
        "colab": {}
      },
      "source": [
        "num1 = int(input('Digite o primeiro número inteiro:'))\n",
        "num3 = float(input('Digite o terceiro número real:'))\n",
        "soma = (num1*3) + num3\n",
        "print('A soma do triplo de {} com {} é igual à {:.2f}.'.format(num1, num3, soma))"
      ],
      "execution_count": 0,
      "outputs": []
    },
    {
      "cell_type": "code",
      "metadata": {
        "id": "ghokZR3_ja4V",
        "colab_type": "code",
        "colab": {}
      },
      "source": [
        "num1 = int(input('Digite o primeiro número inteiro:'))\n",
        "num3 = float(input('Digite o terceiro número real:'))\n",
        "soma = (num1*3) + num3\n",
        "print('A soma do triplo de {} com {} é igual à {:.2f}.'.format(num1, num3, soma))"
      ],
      "execution_count": 0,
      "outputs": []
    },
    {
      "cell_type": "markdown",
      "metadata": {
        "id": "vBf7YvajkRe2",
        "colab_type": "text"
      },
      "source": [
        "c) O terceiro elevado ao cubo"
      ]
    },
    {
      "cell_type": "code",
      "metadata": {
        "id": "QC0aybNEkONI",
        "colab_type": "code",
        "colab": {}
      },
      "source": [
        "num3 = float(input('Digite o terceiro número real:'))\n",
        "cubo = num3**3\n",
        "print('O cubo de {} é {:.2f}'.format(num3, cubo))"
      ],
      "execution_count": 0,
      "outputs": []
    },
    {
      "cell_type": "code",
      "metadata": {
        "id": "CCaeBvKZkz_m",
        "colab_type": "code",
        "colab": {}
      },
      "source": [
        "num3 = float(input('Digite o terceiro número real:'))\n",
        "cubo = num3**3\n",
        "print('O cubo de {} é {:.2f}'.format(num3, cubo))"
      ],
      "execution_count": 0,
      "outputs": []
    },
    {
      "cell_type": "markdown",
      "metadata": {
        "id": "BHMVv_jKk-S-",
        "colab_type": "text"
      },
      "source": [
        "d) Colocando todas as informações em um mesmo código"
      ]
    },
    {
      "cell_type": "code",
      "metadata": {
        "id": "3tItleOqk8H0",
        "colab_type": "code",
        "colab": {}
      },
      "source": [
        "num1 = int(input('Digite o primeiro número inteiro:'))\n",
        "num2 = int(input('Digite o segundo número inteiro:'))\n",
        "num3 = float(input('Digite o terceiro número real:'))\n",
        "\n",
        "prod = (num1*2) * (num2/2)\n",
        "soma = (num1*3) + num3\n",
        "cubo = num3**3\n",
        "\n",
        "print('A soma do triplo de {} com {} é igual à {:.2f}.'.format(num1, num3, soma))\n",
        "print('O produto do dobro de {} com a metade de {} é igual à {:.2f}.'.format(num1, num2, prod))\n",
        "print('O cubo de {} é {:.2f}'.format(num3, cubo))"
      ],
      "execution_count": 0,
      "outputs": []
    },
    {
      "cell_type": "markdown",
      "metadata": {
        "id": "B7SOi83AlhoG",
        "colab_type": "text"
      },
      "source": [
        "12. Construa um algoritmo que calcule o peso ideal de uma pessoa usando a fórmula (72.7*altura)-58"
      ]
    },
    {
      "cell_type": "code",
      "metadata": {
        "id": "bESrWEDHlWca",
        "colab_type": "code",
        "colab": {}
      },
      "source": [
        "altura = float(input('Digite a sua altura em metros:'))\n",
        "peso = (72.7*altura)-58\n",
        "print('Seu peso ideal é de {:.1f} kg.'.format(peso))"
      ],
      "execution_count": 0,
      "outputs": []
    },
    {
      "cell_type": "markdown",
      "metadata": {
        "id": "0tLYQlEqAFka",
        "colab_type": "text"
      },
      "source": [
        "## <font color=red>Preciso melhorar o código da questão 13\n",
        "\n",
        "***"
      ]
    },
    {
      "cell_type": "markdown",
      "metadata": {
        "id": "G7QJFg75mw_P",
        "colab_type": "text"
      },
      "source": [
        "13. Construa um algoritmo que calcule o peso ideal de uma pessoa usando a fórmula \n",
        "\n",
        "Para homens: (72.7*altura)-58\n",
        "\n",
        "Para mulheres: (62.1*altura)- 44.7"
      ]
    },
    {
      "cell_type": "code",
      "metadata": {
        "id": "hyM51VCymi-f",
        "colab_type": "code",
        "colab": {}
      },
      "source": [
        "altura = float(input('Digite a sua altura em metros:'))\n",
        "print(\"Qual é o seu sexo?\")\n",
        "print(\"(M) Masculino (F) Feminino\")\n",
        "sexo = str(input(\"Defina seu sexo:\"))\n",
        "if sexo == 'M':\n",
        "      peso = (72.7*altura)-58\n",
        "elif sexo == 'F': \n",
        "      peso = (62.1*altura)-44.7\n",
        "else:\n",
        "      print('Sexo não definido')\n",
        "\n",
        "print('Seu peso ideal é de {:.1f} kg.'.format(peso))"
      ],
      "execution_count": 0,
      "outputs": []
    },
    {
      "cell_type": "code",
      "metadata": {
        "id": "ZtvH_p1yn95u",
        "colab_type": "code",
        "colab": {}
      },
      "source": [
        "altura = float(input('Digite a sua altura em metros:'))\n",
        "print(\"Qual é o seu sexo?\")\n",
        "print(\"(M) Masculino (F) Feminino\")\n",
        "sexo = str(input(\"Defina seu sexo:\"))\n",
        "if sexo == 'M':\n",
        "      peso = (72.7*altura)-58\n",
        "elif sexo == 'F': \n",
        "      peso = (62.1*altura)-44.7\n",
        "else:\n",
        "      print('Sexo não definido')\n",
        "\n",
        "print('Seu peso ideal é de {:.1f} kg.'.format(peso))"
      ],
      "execution_count": 0,
      "outputs": []
    },
    {
      "cell_type": "code",
      "metadata": {
        "id": "xnRV3e4Loiav",
        "colab_type": "code",
        "colab": {}
      },
      "source": [
        "altura = float(input('Digite a sua altura em metros:'))\n",
        "print(\"Qual é o seu sexo?\")\n",
        "print(\"(M) Masculino (F) Feminino\")\n",
        "sexo = str(input(\"Defina seu sexo:\"))\n",
        "if sexo == 'M':\n",
        "      peso = (72.7*altura)-58\n",
        "      print('Seu peso ideal é de {:.1f} kg.'.format(peso))\n",
        "elif sexo == 'F': \n",
        "      peso = (62.1*altura)-44.7\n",
        "      print('Seu peso ideal é de {:.1f} kg.'.format(peso))\n",
        "else:\n",
        "      print('Sexo não definido')"
      ],
      "execution_count": 0,
      "outputs": []
    },
    {
      "cell_type": "markdown",
      "metadata": {
        "id": "yo3xfIh9pQKs",
        "colab_type": "text"
      },
      "source": [
        "14. Programa que calcule o excesso de quilos de peixe e o valor da multa. Imprima os dados com as mensagens adequadas.\n",
        "\n",
        "Dados:50 quilos é o peso máximo permitido, multa de R$ 4,00 para cada quilo excedente."
      ]
    },
    {
      "cell_type": "code",
      "metadata": {
        "id": "6eAIkmpDommg",
        "colab_type": "code",
        "colab": {}
      },
      "source": [
        "quilo_peixe = float(input('Quantos quilos de peixe você trouxe hoje?'))\n",
        "excesso = 50 - quilo_peixe\n",
        "if excesso >= 0:\n",
        "  print('Não houve excesso de peso. Parabéns!')\n",
        "else:\n",
        "  excesso = excesso*(-1)\n",
        "  multa = excesso*4\n",
        "  print('O peso excedido foi de {}'.format(excesso))\n",
        "  print('O valor da multa será de R$ {:.2f}.'.format(multa))"
      ],
      "execution_count": 0,
      "outputs": []
    },
    {
      "cell_type": "code",
      "metadata": {
        "id": "tEm_g4fUreM0",
        "colab_type": "code",
        "colab": {}
      },
      "source": [
        "quilo_peixe = float(input('Quantos quilos de peixe você trouxe hoje?'))\n",
        "excesso = 50 - quilo_peixe\n",
        "if excesso >= 0:\n",
        "  print('Não houve excesso de peso. Parabéns!')\n",
        "else:\n",
        "  excesso = excesso*(-1)\n",
        "  multa = excesso*4\n",
        "  print('O peso excedido foi de {}'.format(excesso))\n",
        "  print('O valor da multa será de R$ {:.2f}.'.format(multa))\n"
      ],
      "execution_count": 0,
      "outputs": []
    },
    {
      "cell_type": "markdown",
      "metadata": {
        "id": "JMF0eDcOsGWd",
        "colab_type": "text"
      },
      "source": [
        "15. Programa que pergunte quanto você ganha por hora e o número de horas trabalhadas no mês. Calcule e mostre o total do seu salário no referido mês, sabendo-se que são descontados 11% para o IR, 8% para o INSS e 5% para o sindicato. O programa deve nos dá:\n",
        "\n",
        "a) Salário Bruto\n",
        "\n",
        "b) Quanto pagou ao IR\n",
        "\n",
        "c) Quanto pagou ao INSS\n",
        "\n",
        "d) Quanto pagou ao sindicato\n",
        "\n",
        "e) Salário Líquido"
      ]
    },
    {
      "cell_type": "code",
      "metadata": {
        "id": "Rry7vVa3rvqs",
        "colab_type": "code",
        "colab": {}
      },
      "source": [
        "valorhora = float(input('Qual o valor da sua hora de trabalho?'))\n",
        "horatrab = float(input('Quantas horas você trabalhou esse mês?'))\n",
        "salario_bruto = valorhora*horatrab\n",
        "ir = salario_bruto*0.11\n",
        "inss = salario_bruto*0.08\n",
        "sindicato = salario_bruto*0.05\n",
        "salario_liquido = salario_bruto - ir - inss - sindicato\n",
        "\n",
        "print('Salário Bruto: R${:.2f}'.format(salario_bruto))\n",
        "print('Desconto Imposto de Renda: R${:.2f}'.format(ir))\n",
        "print('Desconto INSS: R${:.2f}'.format(inss))\n",
        "print('Desconto Sindicato: R${:.2f}'.format(sindicato))\n",
        "print('Salário Líquido: R${:.2f}'.format(salario_liquido))"
      ],
      "execution_count": 0,
      "outputs": []
    },
    {
      "cell_type": "code",
      "metadata": {
        "id": "vOxqT2XXvRdi",
        "colab_type": "code",
        "colab": {}
      },
      "source": [
        "valorhora = float(input('Qual o valor da sua hora de trabalho?'))\n",
        "horatrab = float(input('Quantas horas você trabalhou esse mês?'))\n",
        "salario_bruto = valorhora*horatrab\n",
        "ir = salario_bruto*0.11\n",
        "inss = salario_bruto*0.08\n",
        "sindicato = salario_bruto*0.05\n",
        "salario_liquido = salario_bruto - ir - inss - sindicato\n",
        "\n",
        "print('Salário Bruto: R${:.2f}'.format(salario_bruto))\n",
        "print('Desconto Imposto de Renda: R${:.2f}'.format(ir))\n",
        "print('Desconto INSS: R${:.2f}'.format(inss))\n",
        "print('Desconto Sindicato: R${:.2f}'.format(sindicato))\n",
        "print('Salário Líquido: R${:.2f}'.format(salario_liquido))"
      ],
      "execution_count": 0,
      "outputs": []
    },
    {
      "cell_type": "markdown",
      "metadata": {
        "id": "JT6pAHcTw2gP",
        "colab_type": "text"
      },
      "source": [
        "16. Programa para calcular a quantidade de latas de tinta a serem compradas e o preço total. O programa deve pedir o tamanho em metros quadrados da área a ser pintada.\n",
        "\n",
        "Dados:\n",
        "\n",
        "a) 1 litro de tinta para cada 3 metros quadrados.\n",
        "\n",
        "b) A lata da tinta custa R$ 80,00 e vem com 18 litros."
      ]
    },
    {
      "cell_type": "code",
      "metadata": {
        "id": "GK-_VVnk1qUZ",
        "colab_type": "code",
        "colab": {}
      },
      "source": [
        "area_pintada = float(input('Qual o valor em metros quadrados da área que será pintada?'))\n",
        "qtd_litros = area_pintada/3\n",
        "qtd_latas = qtd_litros*(1/18)\n",
        "\n",
        "preço_lata = 80\n",
        "litros_lata = 18\n",
        "\n",
        "\n",
        "total_latas = qtd_litros//litros_lata\n",
        "if total_latas == 0:\n",
        "  total_latas = 1\n",
        "else:\n",
        "  total_latas\n",
        "\n",
        "custo_total = preço_lata*total_latas\n",
        "\n",
        "print ('Você usará {:.0f} latas de tinta'.format(total_latas))\n",
        "print ('O preco total é de: R${:.2f}'.format(custo_total))"
      ],
      "execution_count": 0,
      "outputs": []
    },
    {
      "cell_type": "code",
      "metadata": {
        "id": "SCzTMuDM2g_o",
        "colab_type": "code",
        "colab": {}
      },
      "source": [
        "area_pintada = float(input('Qual o valor em metros quadrados da área que será pintada?'))\n",
        "qtd_litros = area_pintada/3\n",
        "qtd_latas = qtd_litros*(1/18)\n",
        "\n",
        "preço_lata = 80\n",
        "litros_lata = 18\n",
        "\n",
        "\n",
        "total_latas = qtd_litros//litros_lata\n",
        "if total_latas == 0:\n",
        "  total_latas = 1\n",
        "else:\n",
        "  total_latas\n",
        "\n",
        "custo_total = preço_lata*total_latas\n",
        "\n",
        "print ('Você usará {:.0f} latas de tinta'.format(total_latas))\n",
        "print ('O preco total é de: R${:.2f}'.format(custo_total))"
      ],
      "execution_count": 0,
      "outputs": []
    },
    {
      "cell_type": "code",
      "metadata": {
        "id": "4uN560ia3Nzu",
        "colab_type": "code",
        "outputId": "9e9fcb99-ac01-43be-f80a-e8385b019a6a",
        "colab": {
          "base_uri": "https://localhost:8080/",
          "height": 70
        }
      },
      "source": [
        "area_pintada = float(input('Qual o valor em metros quadrados da área que será pintada?'))\n",
        "qtd_litros = area_pintada/3\n",
        "qtd_latas = qtd_litros*(1/18)\n",
        "\n",
        "preço_lata = 80\n",
        "litros_lata = 18\n",
        "\n",
        "\n",
        "total_latas = qtd_litros/litros_lata\n",
        "if total_latas < 1:\n",
        "  total_latas = 1\n",
        "else:\n",
        "  total_latas\n",
        "\n",
        "custo_total = preço_lata*total_latas\n",
        "\n",
        "print ('Você usará {:.0f} lata(s) de tinta'.format(total_latas))\n",
        "print ('O preco total é de: R${:.2f}'.format(custo_total))"
      ],
      "execution_count": 0,
      "outputs": [
        {
          "output_type": "stream",
          "text": [
            "Qual o valor em metros quadrados da área que será pintada?200\n",
            "Você usará 4 lata(s) de tinta\n",
            "O preco total é de: R$296.30\n"
          ],
          "name": "stdout"
        }
      ]
    },
    {
      "cell_type": "markdown",
      "metadata": {
        "id": "65zC04iE_KKK",
        "colab_type": "text"
      },
      "source": [
        "## <font color=red>Preciso melhorar o código da questão 17\n",
        "\n",
        "***"
      ]
    },
    {
      "cell_type": "markdown",
      "metadata": {
        "id": "Z6NAi4kkus3g",
        "colab_type": "text"
      },
      "source": [
        "17. Programa para calcular a quantidade de latas de tinta a serem compradas e o preço total. O programa deve pedir o tamanho em metros quadrados da área a ser pintada.\n",
        "\n",
        "Dados:\n",
        "\n",
        "a) 1 litro de tinta para cada 6 metros quadrados.\n",
        "\n",
        "b) A lata da tinta custa 80,00 reais e vem com 18 litros ou em 3,6 galões que custam 25,00 reais."
      ]
    },
    {
      "cell_type": "code",
      "metadata": {
        "id": "_L1pKAZU3RQX",
        "colab_type": "code",
        "colab": {
          "base_uri": "https://localhost:8080/",
          "height": 51
        },
        "outputId": "151ee3b5-1d57-4788-8676-b5b756426ff2"
      },
      "source": [
        "area_pintada2 = float(input('Qual o valor em metros quadrados da área que será pintada?'))\n",
        "\n",
        "total_litros = (area_pintada2/6.0) *1.1\n",
        "total_latas = int(total_litros/18)\n",
        "total_galoes = int(total_litros/3.6)\n",
        "\n",
        "# Calculo da quantidade de latas\n",
        "if (total_litros % 18 == 0):\n",
        "    total_latas\n",
        "    preco_lata = total_latas * 80\n",
        "    print ('A quantidade de latas vai ser de {:.0f} e o valor vai ser de R$ {:.2f}'.format(total_latas,preco_lata))\n",
        "# Calculo da quantidade de galoes\n",
        "elif (total_litros % 3.6 == 0):\n",
        "    total_galoes\n",
        "    preco_galoes = total_galoes * 25.00\n",
        "    print ('A quantidade de galões vai ser de {:.0f} e o valor vai ser de R$ {:.2f}'.format(total_galoes,preco_galoes))\n",
        "# Calculo misturando latas e galoes\n",
        "else:\n",
        "    mix_latas = int(total_litros/18)\n",
        "    mix_galoes = int((total_litros - (mix_latas * 18)) / 3.6)\n",
        "    if ((total_litros - (mix_latas * 18.0) % 3.6 != 0)):\n",
        "        mix_galoes += 1\n",
        "        precoLataGalao = (mix_latas * 80.00) + (mix_galoes * 25.00)\n",
        "        print ('A quantidade de latas vai ser de {:.0f} e a de galoes vai ser de {:.0f}, o valor total ficou R$ {:.2f}'.format(mix_latas,mix_galoes,precoLataGalao))"
      ],
      "execution_count": 57,
      "outputs": [
        {
          "output_type": "stream",
          "text": [
            "Qual o valor em metros quadrados da área que será pintada?150\n",
            "A quantidade de latas vai ser de 1 e a de galoes vai ser de 3, o valor total ficou R$ 155.00\n"
          ],
          "name": "stdout"
        }
      ]
    },
    {
      "cell_type": "code",
      "metadata": {
        "id": "3K58AE4h3QE-",
        "colab_type": "code",
        "colab": {
          "base_uri": "https://localhost:8080/",
          "height": 51
        },
        "outputId": "7fc98a7a-b181-4159-ab0b-7de6242ccac0"
      },
      "source": [
        "area_pintada2 = float(input('Qual o valor em metros quadrados da área que será pintada?'))\n",
        "\n",
        "total_litros = (area_pintada2/6.0) *1.1\n",
        "total_latas = int(total_litros/18)\n",
        "total_galoes = int(total_litros/3.6)\n",
        "\n",
        "# Calculo da quantidade de latas\n",
        "if (total_litros % 18 == 0):\n",
        "    total_latas\n",
        "    preco_lata = total_latas * 80\n",
        "    print ('A quantidade de latas vai ser de {:.0f} e o valor vai ser de R$ {:.2f}'.format(total_latas,preco_lata))\n",
        "# Calculo da quantidade de galoes\n",
        "elif (total_litros % 3.6 == 0):\n",
        "    total_galoes\n",
        "    preco_galoes = total_galoes * 25.00\n",
        "    print ('A quantidade de galões vai ser de {:.0f} e o valor vai ser de R$ {:.2f}'.format(total_galoes,preco_galoes))\n",
        "# Calculo misturando latas e galoes\n",
        "else:\n",
        "    mix_latas = int(total_litros/18)\n",
        "    mix_galoes = int((total_litros - (mix_latas * 18)) / 3.6)\n",
        "    if ((total_litros - (mix_latas * 18.0) % 3.6 != 0)):\n",
        "        mix_galoes += 1\n",
        "        precoLataGalao = (mix_latas * 80.00) + (mix_galoes * 25.00)\n",
        "        print ('A quantidade de latas vai ser de {:.0f} e a de galoes vai ser de {:.0f}, o valor total ficou R$ {:.2f}'.format(mix_latas,mix_galoes,precoLataGalao))"
      ],
      "execution_count": 60,
      "outputs": [
        {
          "output_type": "stream",
          "text": [
            "Qual o valor em metros quadrados da área que será pintada?21\n",
            "A quantidade de latas vai ser de 0 e a de galoes vai ser de 2, o valor total ficou R$ 50.00\n"
          ],
          "name": "stdout"
        }
      ]
    },
    {
      "cell_type": "markdown",
      "metadata": {
        "id": "3dhnWiKaAJ5X",
        "colab_type": "text"
      },
      "source": [
        "18. Programa que peça o tamanho de um arquivo para download (em MB) e a velocidade de um link de Internet (em Mbps), calcule e informe o tempo aproximado de download do arquivo usando este link (em minutos)."
      ]
    },
    {
      "cell_type": "code",
      "metadata": {
        "id": "nlXmdFywxpES",
        "colab_type": "code",
        "colab": {
          "base_uri": "https://localhost:8080/",
          "height": 68
        },
        "outputId": "72e954f3-5e66-49d9-e2e5-19b29bcccc6b"
      },
      "source": [
        "tamanho_arquivo = float(input('Qual o tamanho do arquivo em MB? '))\n",
        "velocidade_internet = float(input('Qual a velocidade da sua internet em MBps? '))\n",
        "\n",
        "tempo_download = ((tamanho_arquivo/velocidade_internet)/60)\n",
        "\n",
        "print('Seu tempo de download vai ser de {:.2f} minutos'.format(tempo_download))"
      ],
      "execution_count": 65,
      "outputs": [
        {
          "output_type": "stream",
          "text": [
            "Qual o tamanho do arquivo em MB? 2100\n",
            "Qual a velocidade da sua internet em MBps? 10\n",
            "Seu tempo de download vai ser de 3.50 minutos\n"
          ],
          "name": "stdout"
        }
      ]
    },
    {
      "cell_type": "code",
      "metadata": {
        "id": "ZtU_K7frAsEB",
        "colab_type": "code",
        "colab": {
          "base_uri": "https://localhost:8080/",
          "height": 68
        },
        "outputId": "6602dad2-6a8c-469a-f284-9b72080b55ff"
      },
      "source": [
        "tamanho_arquivo = float(input('Qual o tamanho do arquivo em MB? '))\n",
        "velocidade_internet = float(input('Qual a velocidade da sua internet em MBps? '))\n",
        "\n",
        "tempo_download = ((tamanho_arquivo/velocidade_internet)/60)\n",
        "\n",
        "print('Seu tempo de download vai ser de {:.2f} minutos'.format(tempo_download))"
      ],
      "execution_count": 66,
      "outputs": [
        {
          "output_type": "stream",
          "text": [
            "Qual o tamanho do arquivo em MB? 500000\n",
            "Qual a velocidade da sua internet em MBps? 10\n",
            "Seu tempo de download vai ser de 833.33 minutos\n"
          ],
          "name": "stdout"
        }
      ]
    },
    {
      "cell_type": "code",
      "metadata": {
        "id": "Y3SAEFqvBO5d",
        "colab_type": "code",
        "colab": {}
      },
      "source": [
        ""
      ],
      "execution_count": 0,
      "outputs": []
    }
  ]
}