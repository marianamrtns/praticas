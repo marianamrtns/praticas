{
  "nbformat": 4,
  "nbformat_minor": 0,
  "metadata": {
    "colab": {
      "name": "Exercicios_Estrutura_ Sequencial",
      "provenance": [],
      "authorship_tag": "ABX9TyMDn7CLKUpVs/YC9MyoQggn",
      "include_colab_link": true
    },
    "kernelspec": {
      "name": "python3",
      "display_name": "Python 3"
    }
  },
  "cells": [
    {
      "cell_type": "markdown",
      "metadata": {
        "id": "view-in-github",
        "colab_type": "text"
      },
      "source": [
        "<a href=\"https://colab.research.google.com/github/marianamrtns/praticas/blob/master/Exercicios_Estrutura__Sequencial.ipynb\" target=\"_parent\"><img src=\"https://colab.research.google.com/assets/colab-badge.svg\" alt=\"Open In Colab\"/></a>"
      ]
    },
    {
      "cell_type": "code",
      "metadata": {
        "id": "FrK4yXAg9lxq",
        "colab_type": "code",
        "colab": {}
      },
      "source": [
        "import pandas as pd"
      ],
      "execution_count": 0,
      "outputs": []
    },
    {
      "cell_type": "markdown",
      "metadata": {
        "id": "doJD5P5b9yqY",
        "colab_type": "text"
      },
      "source": [
        "1. Programa que mostra a mensagem 'Alô Mundo' na tela"
      ]
    },
    {
      "cell_type": "code",
      "metadata": {
        "id": "1NjYg5Hy9t1G",
        "colab_type": "code",
        "colab": {
          "base_uri": "https://localhost:8080/",
          "height": 34
        },
        "outputId": "ae5573f2-db08-4306-b24b-69a39a0dbd5f"
      },
      "source": [
        "print('Alô Mundo')"
      ],
      "execution_count": 8,
      "outputs": [
        {
          "output_type": "stream",
          "text": [
            "Alô Mundo\n"
          ],
          "name": "stdout"
        }
      ]
    },
    {
      "cell_type": "markdown",
      "metadata": {
        "id": "wfTQW9UJ-Cn0",
        "colab_type": "text"
      },
      "source": [
        "2. Programa que peça um número e mostre a mensagem *O número informado foi [número]*"
      ]
    },
    {
      "cell_type": "code",
      "metadata": {
        "id": "0SJDUCP3-AKO",
        "colab_type": "code",
        "colab": {
          "base_uri": "https://localhost:8080/",
          "height": 51
        },
        "outputId": "e6d2bb31-0238-4c98-a375-658fa7d4ea51"
      },
      "source": [
        "num = float(input(\"Digite um número:\"))\n",
        "print(\"O número informado foi\", num)"
      ],
      "execution_count": 9,
      "outputs": [
        {
          "output_type": "stream",
          "text": [
            "Digite um número:6\n",
            "O número informado foi 6.0\n"
          ],
          "name": "stdout"
        }
      ]
    },
    {
      "cell_type": "code",
      "metadata": {
        "id": "r1UB55GQ_M9i",
        "colab_type": "code",
        "colab": {
          "base_uri": "https://localhost:8080/",
          "height": 197
        },
        "outputId": "71289b1b-4a4d-4ade-c384-c99a9a3700a5"
      },
      "source": [
        "num = float(input(\"Digite um número:\"))\n",
        "print(\"O número informado foi\", num)"
      ],
      "execution_count": 10,
      "outputs": [
        {
          "output_type": "stream",
          "text": [
            "Digite um número:ksk\n"
          ],
          "name": "stdout"
        },
        {
          "output_type": "error",
          "ename": "ValueError",
          "evalue": "ignored",
          "traceback": [
            "\u001b[0;31m---------------------------------------------------------------------------\u001b[0m",
            "\u001b[0;31mValueError\u001b[0m                                Traceback (most recent call last)",
            "\u001b[0;32m<ipython-input-10-d946caf38d04>\u001b[0m in \u001b[0;36m<module>\u001b[0;34m()\u001b[0m\n\u001b[0;32m----> 1\u001b[0;31m \u001b[0mnum\u001b[0m \u001b[0;34m=\u001b[0m \u001b[0mfloat\u001b[0m\u001b[0;34m(\u001b[0m\u001b[0minput\u001b[0m\u001b[0;34m(\u001b[0m\u001b[0;34m\"Digite um número:\"\u001b[0m\u001b[0;34m)\u001b[0m\u001b[0;34m)\u001b[0m\u001b[0;34m\u001b[0m\u001b[0;34m\u001b[0m\u001b[0m\n\u001b[0m\u001b[1;32m      2\u001b[0m \u001b[0mprint\u001b[0m\u001b[0;34m(\u001b[0m\u001b[0;34m\"O número informado foi\"\u001b[0m\u001b[0;34m,\u001b[0m \u001b[0mnum\u001b[0m\u001b[0;34m)\u001b[0m\u001b[0;34m\u001b[0m\u001b[0;34m\u001b[0m\u001b[0m\n",
            "\u001b[0;31mValueError\u001b[0m: could not convert string to float: 'ksk'"
          ]
        }
      ]
    },
    {
      "cell_type": "markdown",
      "metadata": {
        "id": "U4Q_WEiNCRVY",
        "colab_type": "text"
      },
      "source": [
        "3. Programa que peça dois números e imprima a soma"
      ]
    },
    {
      "cell_type": "code",
      "metadata": {
        "id": "MLZEAp_y_QuX",
        "colab_type": "code",
        "colab": {
          "base_uri": "https://localhost:8080/",
          "height": 68
        },
        "outputId": "aae4e4d0-04ad-44a6-f92a-50490298a20c"
      },
      "source": [
        "a = float(input('Digite o primeiro número:'))\n",
        "b = float(input('Digite o segundo número:'))\n",
        "c = a + b\n",
        "\n",
        "print('{} + {} = {}'.format(a, b, c))"
      ],
      "execution_count": 11,
      "outputs": [
        {
          "output_type": "stream",
          "text": [
            "Digite o primeiro número:5\n",
            "Digite o segundo número:4\n",
            "5.0 + 4.0 = 9.0\n"
          ],
          "name": "stdout"
        }
      ]
    },
    {
      "cell_type": "code",
      "metadata": {
        "id": "IakUB0CnSgWW",
        "colab_type": "code",
        "colab": {
          "base_uri": "https://localhost:8080/",
          "height": 68
        },
        "outputId": "3270e537-9b6e-4e73-83db-5190f173e1ef"
      },
      "source": [
        "a = float(input('Digite o primeiro número:'))\n",
        "b = float(input('Digite o segundo número:'))\n",
        "c = a + b\n",
        "\n",
        "print('{} + {} = {}'.format(a, b, c))"
      ],
      "execution_count": 12,
      "outputs": [
        {
          "output_type": "stream",
          "text": [
            "Digite o primeiro número:8.2\n",
            "Digite o segundo número:7.5\n",
            "8.2 + 7.5 = 15.7\n"
          ],
          "name": "stdout"
        }
      ]
    },
    {
      "cell_type": "markdown",
      "metadata": {
        "id": "nH2XvgXr_X5x",
        "colab_type": "text"
      },
      "source": [
        "4. Programa que peça as 4 notas bimestrais e mostre a média"
      ]
    },
    {
      "cell_type": "code",
      "metadata": {
        "id": "-I4VRIEfSvLQ",
        "colab_type": "code",
        "colab": {
          "base_uri": "https://localhost:8080/",
          "height": 102
        },
        "outputId": "c4150cc8-2e93-4a6b-c02a-6b9c30045d06"
      },
      "source": [
        "bim1 = float(input('Qual foi a nota do 1° bimestre?'))\n",
        "bim2 = float(input('Qual foi a nota do 2° bimestre?'))\n",
        "bim3 = float(input('Qual foi a nota do 3° bimestre?'))\n",
        "bim4 = float(input('Qual foi a nota do 4° bimestre?'))\n",
        "media = (bim1  + bim2 + bim3 + bim4)/4\n",
        "\n",
        "print('A média do aluno foi {}'.format(media))"
      ],
      "execution_count": 14,
      "outputs": [
        {
          "output_type": "stream",
          "text": [
            "Qual foi a nota do 1° bimestre?5\n",
            "Qual foi a nota do 2° bimestre?5\n",
            "Qual foi a nota do 3° bimestre?5\n",
            "Qual foi a nota do 4° bimestre?5\n",
            "A média do aluno foi 5.0\n"
          ],
          "name": "stdout"
        }
      ]
    },
    {
      "cell_type": "code",
      "metadata": {
        "id": "rqGGf6cgTS6L",
        "colab_type": "code",
        "colab": {
          "base_uri": "https://localhost:8080/",
          "height": 102
        },
        "outputId": "fa004860-ae61-4c40-a378-dd85ac98e577"
      },
      "source": [
        "bim1 = float(input('Qual foi a nota do 1° bimestre?'))\n",
        "bim2 = float(input('Qual foi a nota do 2° bimestre?'))\n",
        "bim3 = float(input('Qual foi a nota do 3° bimestre?'))\n",
        "bim4 = float(input('Qual foi a nota do 4° bimestre?'))\n",
        "media = (bim1  + bim2 + bim3 + bim4)/4\n",
        "\n",
        "print('A média do aluno foi {}'.format(media))"
      ],
      "execution_count": 15,
      "outputs": [
        {
          "output_type": "stream",
          "text": [
            "Qual foi a nota do 1° bimestre?10\n",
            "Qual foi a nota do 2° bimestre?5\n",
            "Qual foi a nota do 3° bimestre?8\n",
            "Qual foi a nota do 4° bimestre?6\n",
            "A média do aluno foi 7.25\n"
          ],
          "name": "stdout"
        }
      ]
    },
    {
      "cell_type": "markdown",
      "metadata": {
        "id": "kyiCpXjyTkIM",
        "colab_type": "text"
      },
      "source": [
        "5. Programa que converte metros para centímetros"
      ]
    },
    {
      "cell_type": "code",
      "metadata": {
        "id": "jRxTc8cGTaUK",
        "colab_type": "code",
        "colab": {
          "base_uri": "https://localhost:8080/",
          "height": 51
        },
        "outputId": "e23c0ad3-c3b5-4d68-ded9-749c9ecb9a6e"
      },
      "source": [
        "metros = float(input('Digite o valor em metros:'))\n",
        "cent = metros*100\n",
        "\n",
        "print('{} metros é igual à {} centímetros.'.format(metros, cent))"
      ],
      "execution_count": 17,
      "outputs": [
        {
          "output_type": "stream",
          "text": [
            "Digite o valor em metros:1\n",
            "1.0 metros é igual à 100.0 centímetros.\n"
          ],
          "name": "stdout"
        }
      ]
    },
    {
      "cell_type": "code",
      "metadata": {
        "id": "Q4noJ1lvUJvi",
        "colab_type": "code",
        "colab": {
          "base_uri": "https://localhost:8080/",
          "height": 51
        },
        "outputId": "c4bb2fd3-6329-401d-866d-5a5349f6f986"
      },
      "source": [
        "metros = float(input('Digite o valor em metros:'))\n",
        "cent = metros*100\n",
        "\n",
        "print('{} metros é igual à {} centímetros.'.format(metros, cent))"
      ],
      "execution_count": 18,
      "outputs": [
        {
          "output_type": "stream",
          "text": [
            "Digite o valor em metros:2.25\n",
            "2.25 metros é igual à 225.0 centímetros.\n"
          ],
          "name": "stdout"
        }
      ]
    },
    {
      "cell_type": "markdown",
      "metadata": {
        "id": "sArCL1hUUXXl",
        "colab_type": "text"
      },
      "source": [
        "6. Programa que peça o raio do círculo, calcule e mostre a área"
      ]
    },
    {
      "cell_type": "code",
      "metadata": {
        "id": "R1VIYRqbUSci",
        "colab_type": "code",
        "colab": {
          "base_uri": "https://localhost:8080/",
          "height": 51
        },
        "outputId": "a71898fa-18ac-49a1-859c-8d20ddc68c02"
      },
      "source": [
        "raio = float(input('Qual o raio do círculo?'))\n",
        "area = 3.14159*raio*raio\n",
        "print('O círculo de raio {} tem área total igual à {:.2f}'.format(raio, area))"
      ],
      "execution_count": 27,
      "outputs": [
        {
          "output_type": "stream",
          "text": [
            "Qual o raio do círculo?8.2\n",
            "O círculo de raio 8.2 tem área total igual à 211.24\n"
          ],
          "name": "stdout"
        }
      ]
    },
    {
      "cell_type": "code",
      "metadata": {
        "id": "kZNizrXFUkoL",
        "colab_type": "code",
        "colab": {
          "base_uri": "https://localhost:8080/",
          "height": 51
        },
        "outputId": "225bbf22-8529-48f4-e35f-f1f332ca335f"
      },
      "source": [
        "raio = float(input('Qual o raio do círculo?'))\n",
        "area = 3.14159*(raio*raio)\n",
        "print('O círculo de raio {} tem área total igual à {:.2f}'.format(raio, area))"
      ],
      "execution_count": 28,
      "outputs": [
        {
          "output_type": "stream",
          "text": [
            "Qual o raio do círculo?5\n",
            "O círculo de raio 5.0 tem área total igual à 78.54\n"
          ],
          "name": "stdout"
        }
      ]
    },
    {
      "cell_type": "markdown",
      "metadata": {
        "id": "e_DO-NV6WZXE",
        "colab_type": "text"
      },
      "source": [
        "7. Programa que calcula a área de um quadrado e mostra o dobro dessa área"
      ]
    },
    {
      "cell_type": "code",
      "metadata": {
        "id": "bsWPMcnLVLNi",
        "colab_type": "code",
        "colab": {
          "base_uri": "https://localhost:8080/",
          "height": 68
        },
        "outputId": "f4cb9b09-aaf9-4bb8-f128-a76eabf1151b"
      },
      "source": [
        "lado = float(input('Digite o valor do lado do quadrado:'))\n",
        "area = lado*lado\n",
        "area2 = area*2\n",
        "print('A área do quadrado é de {}.'.format(area))\n",
        "print('O dobro da área do quadrado é de {}.'.format(area2))"
      ],
      "execution_count": 30,
      "outputs": [
        {
          "output_type": "stream",
          "text": [
            "Digite o valor do lado do quadrado:4\n",
            "A área do quadrado é de 16.0.\n",
            "O dobro da área do quadrado é de 32.0.\n"
          ],
          "name": "stdout"
        }
      ]
    },
    {
      "cell_type": "code",
      "metadata": {
        "id": "bmwxp1YCa_hp",
        "colab_type": "code",
        "colab": {
          "base_uri": "https://localhost:8080/",
          "height": 68
        },
        "outputId": "89485c83-dfce-444c-f7b4-6f4785620f5b"
      },
      "source": [
        "lado = float(input('Digite o valor do lado do quadrado:'))\n",
        "area = lado*lado\n",
        "area2 = area*2\n",
        "print('A área do quadrado é de {}.'.format(area))\n",
        "print('O dobro da área do quadrado é de {}.'.format(area2))"
      ],
      "execution_count": 31,
      "outputs": [
        {
          "output_type": "stream",
          "text": [
            "Digite o valor do lado do quadrado:25\n",
            "A área do quadrado é de 625.0.\n",
            "O dobro da área do quadrado é de 1250.0.\n"
          ],
          "name": "stdout"
        }
      ]
    },
    {
      "cell_type": "code",
      "metadata": {
        "id": "P1aUvN0tbGqs",
        "colab_type": "code",
        "colab": {
          "base_uri": "https://localhost:8080/",
          "height": 68
        },
        "outputId": "0d817032-e83b-498e-d2df-a010d0826e40"
      },
      "source": [
        "lado = float(input('Digite o valor do lado do quadrado:'))\n",
        "area = lado*lado\n",
        "area2 = area*2\n",
        "print('A área do quadrado é de {}.'.format(area))\n",
        "print('O dobro da área do quadrado é de {}.'.format(area2))"
      ],
      "execution_count": 32,
      "outputs": [
        {
          "output_type": "stream",
          "text": [
            "Digite o valor do lado do quadrado:7.5\n",
            "A área do quadrado é de 56.25.\n",
            "O dobro da área do quadrado é de 112.5.\n"
          ],
          "name": "stdout"
        }
      ]
    },
    {
      "cell_type": "markdown",
      "metadata": {
        "id": "kBK0FfoubS-y",
        "colab_type": "text"
      },
      "source": [
        "8. Programa que pergunta o valor por hora de trabalho e o número de horas trabalhadas no mês. Mostre o total do salário no mês"
      ]
    },
    {
      "cell_type": "code",
      "metadata": {
        "id": "R1pHoWHQbI7m",
        "colab_type": "code",
        "colab": {
          "base_uri": "https://localhost:8080/",
          "height": 68
        },
        "outputId": "b7541573-3656-46ad-fd72-efaabc86f98c"
      },
      "source": [
        "valor_hora = float(input('Digite o valor da hora de trabalho:'))\n",
        "hora_trab = float(input('Digite o total de horas trabalhadas:'))\n",
        "salario = valor_hora * hora_trab\n",
        "\n",
        "print('Seu salário será de R$ {}'.format(salario))"
      ],
      "execution_count": 33,
      "outputs": [
        {
          "output_type": "stream",
          "text": [
            "Digite o valor da hora de trabalho:5.5\n",
            "Digite o total de horas trabalhadas:160\n",
            "Seu salário será de R$ 880.0\n"
          ],
          "name": "stdout"
        }
      ]
    },
    {
      "cell_type": "code",
      "metadata": {
        "id": "MsCZlOHLdTmC",
        "colab_type": "code",
        "colab": {
          "base_uri": "https://localhost:8080/",
          "height": 68
        },
        "outputId": "f33ac813-72b7-423a-ac99-adb2f168f19b"
      },
      "source": [
        "valor_hora = float(input('Digite o valor da hora de trabalho:'))\n",
        "hora_trab = float(input('Digite o total de horas trabalhadas:'))\n",
        "salario = valor_hora * hora_trab\n",
        "\n",
        "print('Seu salário será de R$ {}'.format(salario))"
      ],
      "execution_count": 34,
      "outputs": [
        {
          "output_type": "stream",
          "text": [
            "Digite o valor da hora de trabalho:9\n",
            "Digite o total de horas trabalhadas:160\n",
            "Seu salário será de R$ 1440.0\n"
          ],
          "name": "stdout"
        }
      ]
    },
    {
      "cell_type": "code",
      "metadata": {
        "id": "2iICZoKEdZwV",
        "colab_type": "code",
        "colab": {
          "base_uri": "https://localhost:8080/",
          "height": 68
        },
        "outputId": "9d016e8a-fe35-4223-b600-4532ef5f578f"
      },
      "source": [
        "valor_hora = float(input('Digite o valor da hora de trabalho:'))\n",
        "hora_trab = float(input('Digite o total de horas trabalhadas:'))\n",
        "salario = valor_hora * hora_trab\n",
        "\n",
        "print('Seu salário será de R$ {}'.format(salario))"
      ],
      "execution_count": 35,
      "outputs": [
        {
          "output_type": "stream",
          "text": [
            "Digite o valor da hora de trabalho:5.5\n",
            "Digite o total de horas trabalhadas:176\n",
            "Seu salário será de R$ 968.0\n"
          ],
          "name": "stdout"
        }
      ]
    },
    {
      "cell_type": "code",
      "metadata": {
        "id": "sXFzRnOsdeI7",
        "colab_type": "code",
        "colab": {
          "base_uri": "https://localhost:8080/",
          "height": 68
        },
        "outputId": "beebb65c-ff0b-4422-cbfc-3c1cd88b6838"
      },
      "source": [
        "valor_hora = float(input('Digite o valor da hora de trabalho:'))\n",
        "hora_trab = float(input('Digite o total de horas trabalhadas:'))\n",
        "salario = valor_hora * hora_trab\n",
        "\n",
        "print('Seu salário será de R$ {}'.format(salario))"
      ],
      "execution_count": 36,
      "outputs": [
        {
          "output_type": "stream",
          "text": [
            "Digite o valor da hora de trabalho:9.5\n",
            "Digite o total de horas trabalhadas:176\n",
            "Seu salário será de R$ 1672.0\n"
          ],
          "name": "stdout"
        }
      ]
    },
    {
      "cell_type": "markdown",
      "metadata": {
        "id": "M_jyvWbScEUB",
        "colab_type": "text"
      },
      "source": [
        "9. Programa que converte a temperatura de graus Farenheit para graus Celsius"
      ]
    },
    {
      "cell_type": "code",
      "metadata": {
        "id": "yIy9a3YqcD0W",
        "colab_type": "code",
        "colab": {
          "base_uri": "https://localhost:8080/",
          "height": 51
        },
        "outputId": "5999e313-bdd9-4824-95d2-332dcf5d1eac"
      },
      "source": [
        "grausF = float(input('Digite a temperatura em graus Farenheit:'))\n",
        "grausC = 5*((grausF - 32)/9)\n",
        "print('{}° Farenheit equivale à {:.1f}° Celsius'.format(grausF, grausC))"
      ],
      "execution_count": 39,
      "outputs": [
        {
          "output_type": "stream",
          "text": [
            "Digite a temperatura em graus Farenheit:90\n",
            "90.0° Farenheit equivale à 32.2° Celsius\n"
          ],
          "name": "stdout"
        }
      ]
    },
    {
      "cell_type": "code",
      "metadata": {
        "id": "ffRiqRK4ejcn",
        "colab_type": "code",
        "colab": {
          "base_uri": "https://localhost:8080/",
          "height": 51
        },
        "outputId": "beae405c-62dc-43b5-a32f-9348794e4b8b"
      },
      "source": [
        "grausF = float(input('Digite a temperatura em graus Farenheit:'))\n",
        "grausC = 5*((grausF - 32)/9)\n",
        "print('{}° Farenheit equivale à {:.1f}° Celsius'.format(grausF, grausC))"
      ],
      "execution_count": 40,
      "outputs": [
        {
          "output_type": "stream",
          "text": [
            "Digite a temperatura em graus Farenheit:110.5\n",
            "110.5° Farenheit equivale à 43.6° Celsius\n"
          ],
          "name": "stdout"
        }
      ]
    },
    {
      "cell_type": "code",
      "metadata": {
        "id": "gz7ktM4KexsS",
        "colab_type": "code",
        "colab": {
          "base_uri": "https://localhost:8080/",
          "height": 51
        },
        "outputId": "3a43a9d0-32a0-4c4e-955b-d72558fe3308"
      },
      "source": [
        "grausF = float(input('Digite a temperatura em graus Farenheit:'))\n",
        "grausC = 5*((grausF - 32)/9)\n",
        "print('{}° Farenheit equivale à {:.1f}° Celsius'.format(grausF, grausC))"
      ],
      "execution_count": 41,
      "outputs": [
        {
          "output_type": "stream",
          "text": [
            "Digite a temperatura em graus Farenheit:43.6\n",
            "43.6° Farenheit equivale à 6.4° Celsius\n"
          ],
          "name": "stdout"
        }
      ]
    },
    {
      "cell_type": "markdown",
      "metadata": {
        "id": "nQlxqgpBe5hQ",
        "colab_type": "text"
      },
      "source": [
        "10. Programa que converte a temperatura de graus Celsius para graus Farenheit"
      ]
    },
    {
      "cell_type": "code",
      "metadata": {
        "id": "4wdZrhK8et6V",
        "colab_type": "code",
        "colab": {
          "base_uri": "https://localhost:8080/",
          "height": 51
        },
        "outputId": "92578b5d-a665-4910-fcdc-24dd0e431a08"
      },
      "source": [
        "grausc = float(input('Digite a temperatura em graus Celsius:'))\n",
        "grausf = ((9*grausc)/5)+32\n",
        "print('{}° Celsius equivale à {:.1f}° Farenheit'.format(grausc, grausf))"
      ],
      "execution_count": 42,
      "outputs": [
        {
          "output_type": "stream",
          "text": [
            "Digite a temperatura em graus Celsius:6.4\n",
            "6.4° Celsius equivale à 43.5° Farenheit\n"
          ],
          "name": "stdout"
        }
      ]
    },
    {
      "cell_type": "code",
      "metadata": {
        "id": "nTuBiTgzf48R",
        "colab_type": "code",
        "colab": {
          "base_uri": "https://localhost:8080/",
          "height": 51
        },
        "outputId": "e0d9e586-ee07-4ded-dfaa-45151a50a2cf"
      },
      "source": [
        "grausc = float(input('Digite a temperatura em graus Celsius:'))\n",
        "grausf = ((9*grausc)/5)+32\n",
        "print('{}° Celsius equivale à {:.1f}° Farenheit'.format(grausc, grausf))"
      ],
      "execution_count": 43,
      "outputs": [
        {
          "output_type": "stream",
          "text": [
            "Digite a temperatura em graus Celsius:43.6\n",
            "43.6° Celsius equivale à 110.5° Farenheit\n"
          ],
          "name": "stdout"
        }
      ]
    },
    {
      "cell_type": "code",
      "metadata": {
        "id": "9CDDHtvcf96k",
        "colab_type": "code",
        "colab": {
          "base_uri": "https://localhost:8080/",
          "height": 51
        },
        "outputId": "4d51dffc-01ae-4f0e-e7cd-5b1c7ce9eeb6"
      },
      "source": [
        "grausc = float(input('Digite a temperatura em graus Celsius:'))\n",
        "grausf = ((9*grausc)/5)+32\n",
        "print('{}° Celsius equivale à {:.1f}° Farenheit'.format(grausc, grausf))"
      ],
      "execution_count": 45,
      "outputs": [
        {
          "output_type": "stream",
          "text": [
            "Digite a temperatura em graus Celsius:32.2\n",
            "32.2° Celsius equivale à 90.0° Farenheit\n"
          ],
          "name": "stdout"
        }
      ]
    },
    {
      "cell_type": "markdown",
      "metadata": {
        "id": "3OdSTFmDgYc6",
        "colab_type": "text"
      },
      "source": [
        "11. Programa que peça 2 números inteiros e um real.\n",
        "\n",
        "a) Mostre o produto do dobro do primeiro com a metade do segundo"
      ]
    },
    {
      "cell_type": "code",
      "metadata": {
        "id": "icNe0qfxgChH",
        "colab_type": "code",
        "colab": {
          "base_uri": "https://localhost:8080/",
          "height": 68
        },
        "outputId": "b67a374c-d691-4e8c-ea7f-24558a397676"
      },
      "source": [
        "num1 = int(input('Digite o primeiro número inteiro:'))\n",
        "num2 = int(input('Digite o segundo número inteiro:'))\n",
        "prod = (num1*2) * (num2/2)\n",
        "print('O produto do dobro de {} com a metade de {} é igual à {:.2f}.'.format(num1, num2, prod))"
      ],
      "execution_count": 46,
      "outputs": [
        {
          "output_type": "stream",
          "text": [
            "Digite o primeiro número:2\n",
            "Digite o segundo número:2\n",
            "O produto do dobro de 2 com a metade de 2 é igual à 4.0.\n"
          ],
          "name": "stdout"
        }
      ]
    },
    {
      "cell_type": "code",
      "metadata": {
        "id": "8UcZAnWthtEw",
        "colab_type": "code",
        "colab": {
          "base_uri": "https://localhost:8080/",
          "height": 68
        },
        "outputId": "326ea16a-b3ec-4ad5-d444-50df8153d07b"
      },
      "source": [
        "num1 = int(input('Digite o primeiro número inteiro:'))\n",
        "num2 = int(input('Digite o segundo número inteiro:'))\n",
        "prod = (num1*2) * (num2/2)\n",
        "print('O produto do dobro de {} com a metade de {} é igual à {:.2f}.'.format(num1, num2, prod))"
      ],
      "execution_count": 47,
      "outputs": [
        {
          "output_type": "stream",
          "text": [
            "Digite o primeiro número:10\n",
            "Digite o segundo número:5\n",
            "O produto do dobro de 10 com a metade de 5 é igual à 50.0.\n"
          ],
          "name": "stdout"
        }
      ]
    },
    {
      "cell_type": "code",
      "metadata": {
        "id": "ybKMAIM7hzhK",
        "colab_type": "code",
        "colab": {
          "base_uri": "https://localhost:8080/",
          "height": 68
        },
        "outputId": "11bf75fe-16dc-40d1-a01a-6c1952830c5a"
      },
      "source": [
        "num1 = int(input('Digite o primeiro número inteiro:'))\n",
        "num2 = int(input('Digite o segundo número inteiro:'))\n",
        "prod = (num1*2) * (num2/2)\n",
        "print('O produto do dobro de {} com a metade de {} é igual à {:.2f}.'.format(num1, num2, prod))"
      ],
      "execution_count": 48,
      "outputs": [
        {
          "output_type": "stream",
          "text": [
            "Digite o primeiro número:5\n",
            "Digite o segundo número:7\n",
            "O produto do dobro de 5 com a metade de 7 é igual à 35.00.\n"
          ],
          "name": "stdout"
        }
      ]
    },
    {
      "cell_type": "markdown",
      "metadata": {
        "id": "YafW21bvieyz",
        "colab_type": "text"
      },
      "source": [
        "b) Mostre a soma do triplo primeiro com o terceiro"
      ]
    },
    {
      "cell_type": "code",
      "metadata": {
        "id": "mzL0wahdirey",
        "colab_type": "code",
        "colab": {
          "base_uri": "https://localhost:8080/",
          "height": 68
        },
        "outputId": "4bab596b-77d9-4642-a6f1-2af346107fba"
      },
      "source": [
        "num1 = int(input('Digite o primeiro número inteiro:'))\n",
        "num3 = float(input('Digite o terceiro número real:'))\n",
        "soma = (num1*3) + num3\n",
        "print('A soma do triplo de {} com {} é igual à {:.2f}.'.format(num1, num3, soma))"
      ],
      "execution_count": 50,
      "outputs": [
        {
          "output_type": "stream",
          "text": [
            "Digite o primeiro número:5\n",
            "Digite o segundo número:-1\n",
            "A soma do triplo de 5 com -1 é igual à 14.00.\n"
          ],
          "name": "stdout"
        }
      ]
    },
    {
      "cell_type": "code",
      "metadata": {
        "id": "l84v9fnliD2i",
        "colab_type": "code",
        "colab": {
          "base_uri": "https://localhost:8080/",
          "height": 68
        },
        "outputId": "27c07f60-2906-46fb-a1ed-340c1e6ad52b"
      },
      "source": [
        "num1 = int(input('Digite o primeiro número inteiro:'))\n",
        "num3 = float(input('Digite o terceiro número real:'))\n",
        "soma = (num1*3) + num3\n",
        "print('A soma do triplo de {} com {} é igual à {:.2f}.'.format(num1, num3, soma))"
      ],
      "execution_count": 51,
      "outputs": [
        {
          "output_type": "stream",
          "text": [
            "Digite o primeiro número:-5\n",
            "Digite o segundo número:-5\n",
            "A soma do triplo de -5 com -5 é igual à -20.00.\n"
          ],
          "name": "stdout"
        }
      ]
    },
    {
      "cell_type": "code",
      "metadata": {
        "id": "ghokZR3_ja4V",
        "colab_type": "code",
        "colab": {
          "base_uri": "https://localhost:8080/",
          "height": 68
        },
        "outputId": "c1ae5744-19d5-4cf7-8ae8-e4dfe34e0f8a"
      },
      "source": [
        "num1 = int(input('Digite o primeiro número inteiro:'))\n",
        "num3 = float(input('Digite o terceiro número real:'))\n",
        "soma = (num1*3) + num3\n",
        "print('A soma do triplo de {} com {} é igual à {:.2f}.'.format(num1, num3, soma))"
      ],
      "execution_count": 52,
      "outputs": [
        {
          "output_type": "stream",
          "text": [
            "Digite o primeiro número inteiro:5\n",
            "Digite o segundo número inteiro:5.2\n",
            "A soma do triplo de 5 com 5.2 é igual à 20.20.\n"
          ],
          "name": "stdout"
        }
      ]
    },
    {
      "cell_type": "markdown",
      "metadata": {
        "id": "vBf7YvajkRe2",
        "colab_type": "text"
      },
      "source": [
        "c) O terceiro elevado ao cubo"
      ]
    },
    {
      "cell_type": "code",
      "metadata": {
        "id": "QC0aybNEkONI",
        "colab_type": "code",
        "colab": {
          "base_uri": "https://localhost:8080/",
          "height": 51
        },
        "outputId": "8fd86c20-dc6e-49a4-d8a8-200ac32e0f31"
      },
      "source": [
        "num3 = float(input('Digite o terceiro número real:'))\n",
        "cubo = num3**3\n",
        "print('O cubo de {} é {:.2f}'.format(num3, cubo))"
      ],
      "execution_count": 54,
      "outputs": [
        {
          "output_type": "stream",
          "text": [
            "Digite o terceiro número real:5.2\n",
            "O cubo de 5.2 é 140.61\n"
          ],
          "name": "stdout"
        }
      ]
    },
    {
      "cell_type": "code",
      "metadata": {
        "id": "CCaeBvKZkz_m",
        "colab_type": "code",
        "colab": {
          "base_uri": "https://localhost:8080/",
          "height": 51
        },
        "outputId": "6d91e42e-fd1a-49a8-8dad-726b9a73b3f2"
      },
      "source": [
        "num3 = float(input('Digite o terceiro número real:'))\n",
        "cubo = num3**3\n",
        "print('O cubo de {} é {:.2f}'.format(num3, cubo))"
      ],
      "execution_count": 55,
      "outputs": [
        {
          "output_type": "stream",
          "text": [
            "Digite o terceiro número real:-5\n",
            "O cubo de -5.0 é -125.00\n"
          ],
          "name": "stdout"
        }
      ]
    },
    {
      "cell_type": "markdown",
      "metadata": {
        "id": "BHMVv_jKk-S-",
        "colab_type": "text"
      },
      "source": [
        "d) Colocando todas as informações em um mesmo código"
      ]
    },
    {
      "cell_type": "code",
      "metadata": {
        "id": "3tItleOqk8H0",
        "colab_type": "code",
        "colab": {
          "base_uri": "https://localhost:8080/",
          "height": 119
        },
        "outputId": "c07a4d7b-f917-4010-ea6c-db3cd867625d"
      },
      "source": [
        "num1 = int(input('Digite o primeiro número inteiro:'))\n",
        "num2 = int(input('Digite o segundo número inteiro:'))\n",
        "num3 = float(input('Digite o terceiro número real:'))\n",
        "\n",
        "prod = (num1*2) * (num2/2)\n",
        "soma = (num1*3) + num3\n",
        "cubo = num3**3\n",
        "\n",
        "print('A soma do triplo de {} com {} é igual à {:.2f}.'.format(num1, num3, soma))\n",
        "print('O produto do dobro de {} com a metade de {} é igual à {:.2f}.'.format(num1, num2, prod))\n",
        "print('O cubo de {} é {:.2f}'.format(num3, cubo))"
      ],
      "execution_count": 56,
      "outputs": [
        {
          "output_type": "stream",
          "text": [
            "Digite o primeiro número inteiro:8\n",
            "Digite o segundo número inteiro:4\n",
            "Digite o terceiro número real:-2\n",
            "A soma do triplo de 8 com -2.0 é igual à 22.00.\n",
            "O produto do dobro de 8 com a metade de 4 é igual à 32.00.\n",
            "O cubo de -2.0 é -8.00\n"
          ],
          "name": "stdout"
        }
      ]
    },
    {
      "cell_type": "markdown",
      "metadata": {
        "id": "B7SOi83AlhoG",
        "colab_type": "text"
      },
      "source": [
        "12. Construa um algoritmo que calcule o peso ideal de uma pessoa usando a fórmula (72.7*altura)-58"
      ]
    },
    {
      "cell_type": "code",
      "metadata": {
        "id": "bESrWEDHlWca",
        "colab_type": "code",
        "colab": {
          "base_uri": "https://localhost:8080/",
          "height": 51
        },
        "outputId": "6cf225cb-ccf2-4e12-8cdf-fab18eacb303"
      },
      "source": [
        "altura = float(input('Digite a sua altura em metros:'))\n",
        "peso = (72.7*altura)-58\n",
        "print('Seu peso ideal é de {:.1f} kg.'.format(peso))"
      ],
      "execution_count": 59,
      "outputs": [
        {
          "output_type": "stream",
          "text": [
            "Digite a sua altura em metros:1.65\n",
            "Seu peso ideal é de 62.0 kg.\n"
          ],
          "name": "stdout"
        }
      ]
    },
    {
      "cell_type": "markdown",
      "metadata": {
        "id": "G7QJFg75mw_P",
        "colab_type": "text"
      },
      "source": [
        "13. Construa um algoritmo que calcule o peso ideal de uma pessoa usando a fórmula \n",
        "\n",
        "Para homens: (72.7*altura)-58\n",
        "\n",
        "Para mulheres: (62.1*altura)- 44.7"
      ]
    },
    {
      "cell_type": "code",
      "metadata": {
        "id": "hyM51VCymi-f",
        "colab_type": "code",
        "colab": {
          "base_uri": "https://localhost:8080/",
          "height": 102
        },
        "outputId": "9709af54-5ac3-4e20-f267-db5a8d0323f8"
      },
      "source": [
        "altura = float(input('Digite a sua altura em metros:'))\n",
        "print(\"Qual é o seu sexo?\")\n",
        "print(\"(M) Masculino (F) Feminino\")\n",
        "sexo = str(input(\"Defina seu sexo:\"))\n",
        "if sexo == 'M':\n",
        "      peso = (72.7*altura)-58\n",
        "elif sexo == 'F': \n",
        "      peso = (62.1*altura)-44.7\n",
        "else:\n",
        "      print('Sexo não definido')\n",
        "\n",
        "print('Seu peso ideal é de {:.1f} kg.'.format(peso))"
      ],
      "execution_count": 64,
      "outputs": [
        {
          "output_type": "stream",
          "text": [
            "Digite a sua altura em metros:1.65\n",
            "Qual é o seu sexo?\n",
            "(M) Masculino (F) Feminino\n",
            "Defina seu sexo:F\n",
            "Seu peso ideal é de 57.8 kg.\n"
          ],
          "name": "stdout"
        }
      ]
    },
    {
      "cell_type": "code",
      "metadata": {
        "id": "ZtvH_p1yn95u",
        "colab_type": "code",
        "colab": {
          "base_uri": "https://localhost:8080/",
          "height": 102
        },
        "outputId": "7e4ea888-429e-4bd8-827f-bb8b278e044b"
      },
      "source": [
        "altura = float(input('Digite a sua altura em metros:'))\n",
        "print(\"Qual é o seu sexo?\")\n",
        "print(\"(M) Masculino (F) Feminino\")\n",
        "sexo = str(input(\"Defina seu sexo:\"))\n",
        "if sexo == 'M':\n",
        "      peso = (72.7*altura)-58\n",
        "elif sexo == 'F': \n",
        "      peso = (62.1*altura)-44.7\n",
        "else:\n",
        "      print('Sexo não definido')\n",
        "\n",
        "print('Seu peso ideal é de {:.1f} kg.'.format(peso))"
      ],
      "execution_count": 65,
      "outputs": [
        {
          "output_type": "stream",
          "text": [
            "Digite a sua altura em metros:1.64\n",
            "Qual é o seu sexo?\n",
            "(M) Masculino (F) Feminino\n",
            "Defina seu sexo:M\n",
            "Seu peso ideal é de 61.2 kg.\n"
          ],
          "name": "stdout"
        }
      ]
    },
    {
      "cell_type": "code",
      "metadata": {
        "id": "xnRV3e4Loiav",
        "colab_type": "code",
        "colab": {
          "base_uri": "https://localhost:8080/",
          "height": 102
        },
        "outputId": "a806d9d5-b8ce-43f3-e705-5f428127e626"
      },
      "source": [
        "altura = float(input('Digite a sua altura em metros:'))\n",
        "print(\"Qual é o seu sexo?\")\n",
        "print(\"(M) Masculino (F) Feminino\")\n",
        "sexo = str(input(\"Defina seu sexo:\"))\n",
        "if sexo == 'M':\n",
        "      peso = (72.7*altura)-58\n",
        "      print('Seu peso ideal é de {:.1f} kg.'.format(peso))\n",
        "elif sexo == 'F': \n",
        "      peso = (62.1*altura)-44.7\n",
        "      print('Seu peso ideal é de {:.1f} kg.'.format(peso))\n",
        "else:\n",
        "      print('Sexo não definido')"
      ],
      "execution_count": 67,
      "outputs": [
        {
          "output_type": "stream",
          "text": [
            "Digite a sua altura em metros:1.7\n",
            "Qual é o seu sexo?\n",
            "(M) Masculino (F) Feminino\n",
            "Defina seu sexo:d\n",
            "Sexo não definido\n"
          ],
          "name": "stdout"
        }
      ]
    },
    {
      "cell_type": "markdown",
      "metadata": {
        "id": "yo3xfIh9pQKs",
        "colab_type": "text"
      },
      "source": [
        "14. Programa que calcule o excesso de quilos de peixe e o valor da multa. Imprima os dados com as mensagens adequadas.\n",
        "\n",
        "Dados:50 quilos é o peso máximo permitido, multa de R$ 4,00 para cada quilo excedente."
      ]
    },
    {
      "cell_type": "code",
      "metadata": {
        "id": "6eAIkmpDommg",
        "colab_type": "code",
        "colab": {
          "base_uri": "https://localhost:8080/",
          "height": 68
        },
        "outputId": "e134297d-3b59-4ef0-ffd8-e7fb725ea2df"
      },
      "source": [
        "quilo_peixe = float(input('Quantos quilos de peixe você trouxe hoje?'))\n",
        "excesso = 50 - quilo_peixe\n",
        "if excesso >= 0:\n",
        "  print('Não houve excesso de peso. Parabéns!')\n",
        "else:\n",
        "  excesso = excesso*(-1)\n",
        "  multa = excesso*4\n",
        "  print('O peso excedido foi de {}'.format(excesso))\n",
        "  print('O valor da multa será de R$ {:.2f}.'.format(multa))"
      ],
      "execution_count": 70,
      "outputs": [
        {
          "output_type": "stream",
          "text": [
            "Quantos quilos de peixe você trouxe hoje?75\n",
            "O peso excedido foi de 25.0\n",
            "O valor da multa será de R$ 100.00.\n"
          ],
          "name": "stdout"
        }
      ]
    },
    {
      "cell_type": "code",
      "metadata": {
        "id": "tEm_g4fUreM0",
        "colab_type": "code",
        "colab": {
          "base_uri": "https://localhost:8080/",
          "height": 51
        },
        "outputId": "0935d326-d2d0-44c4-8c2f-25ad8bb5c1c5"
      },
      "source": [
        "quilo_peixe = float(input('Quantos quilos de peixe você trouxe hoje?'))\n",
        "excesso = 50 - quilo_peixe\n",
        "if excesso >= 0:\n",
        "  print('Não houve excesso de peso. Parabéns!')\n",
        "else:\n",
        "  excesso = excesso*(-1)\n",
        "  multa = excesso*4\n",
        "  print('O peso excedido foi de {}'.format(excesso))\n",
        "  print('O valor da multa será de R$ {:.2f}.'.format(multa))\n"
      ],
      "execution_count": 71,
      "outputs": [
        {
          "output_type": "stream",
          "text": [
            "Quantos quilos de peixe você trouxe hoje?35.5\n",
            "Não houve excesso de peso. Parabéns!\n"
          ],
          "name": "stdout"
        }
      ]
    },
    {
      "cell_type": "markdown",
      "metadata": {
        "id": "JMF0eDcOsGWd",
        "colab_type": "text"
      },
      "source": [
        "15. Programa que pergunte quanto você ganha por hora e o número de horas trabalhadas no mês. Calcule e mostre o total do seu salário no referido mês, sabendo-se que são descontados 11% para o IR, 8% para o INSS e 5% para o sindicato. O programa deve nos dá:\n",
        "\n",
        "a) Salário Bruto\n",
        "\n",
        "b) Quanto pagou ao IR\n",
        "\n",
        "c) Quanto pagou ao INSS\n",
        "\n",
        "d) Quanto pagou ao sindicato\n",
        "\n",
        "e) Salário Líquido"
      ]
    },
    {
      "cell_type": "code",
      "metadata": {
        "id": "Rry7vVa3rvqs",
        "colab_type": "code",
        "colab": {
          "base_uri": "https://localhost:8080/",
          "height": 136
        },
        "outputId": "99542183-e0c2-4c8b-cd9f-46e8eb64bf76"
      },
      "source": [
        "valorhora = float(input('Qual o valor da sua hora de trabalho?'))\n",
        "horatrab = float(input('Quantas horas você trabalhou esse mês?'))\n",
        "salario_bruto = valorhora*horatrab\n",
        "ir = salario_bruto*0.11\n",
        "inss = salario_bruto*0.08\n",
        "sindicato = salario_bruto*0.05\n",
        "salario_liquido = salario_bruto - ir - inss - sindicato\n",
        "\n",
        "print('Salário Bruto: R${:.2f}'.format(salario_bruto))\n",
        "print('Desconto Imposto de Renda: R${:.2f}'.format(ir))\n",
        "print('Desconto INSS: R${:.2f}'.format(inss))\n",
        "print('Desconto Sindicato: R${:.2f}'.format(sindicato))\n",
        "print('Salário Líquido: R${:.2f}'.format(salario_liquido))"
      ],
      "execution_count": 75,
      "outputs": [
        {
          "output_type": "stream",
          "text": [
            "Qual o valor da sua hora de trabalho?9.5\n",
            "Quantas horas você trabalhou esse mês?176\n",
            "Salário Bruto: R$1672.00\n",
            "Desconto Imposto de Renda: R$183.92\n",
            "Desconto INSS: R$133.76\n",
            "Desconto Sindicato: R$83.60\n",
            "Salário Líquido: R$1270.72\n"
          ],
          "name": "stdout"
        }
      ]
    },
    {
      "cell_type": "code",
      "metadata": {
        "id": "vOxqT2XXvRdi",
        "colab_type": "code",
        "colab": {
          "base_uri": "https://localhost:8080/",
          "height": 136
        },
        "outputId": "cd230732-b155-4f5f-b788-a7d40b288dbd"
      },
      "source": [
        "valorhora = float(input('Qual o valor da sua hora de trabalho?'))\n",
        "horatrab = float(input('Quantas horas você trabalhou esse mês?'))\n",
        "salario_bruto = valorhora*horatrab\n",
        "ir = salario_bruto*0.11\n",
        "inss = salario_bruto*0.08\n",
        "sindicato = salario_bruto*0.05\n",
        "salario_liquido = salario_bruto - ir - inss - sindicato\n",
        "\n",
        "print('Salário Bruto: R${:.2f}'.format(salario_bruto))\n",
        "print('Desconto Imposto de Renda: R${:.2f}'.format(ir))\n",
        "print('Desconto INSS: R${:.2f}'.format(inss))\n",
        "print('Desconto Sindicato: R${:.2f}'.format(sindicato))\n",
        "print('Salário Líquido: R${:.2f}'.format(salario_liquido))"
      ],
      "execution_count": 76,
      "outputs": [
        {
          "output_type": "stream",
          "text": [
            "Qual o valor da sua hora de trabalho?4.5\n",
            "Quantas horas você trabalhou esse mês?220\n",
            "Salário Bruto: R$990.00\n",
            "Desconto Imposto de Renda: R$108.90\n",
            "Desconto INSS: R$79.20\n",
            "Desconto Sindicato: R$49.50\n",
            "Salário Líquido: R$752.40\n"
          ],
          "name": "stdout"
        }
      ]
    },
    {
      "cell_type": "markdown",
      "metadata": {
        "id": "JT6pAHcTw2gP",
        "colab_type": "text"
      },
      "source": [
        "16. Programa para calcular a quantidade de latas de tinta a serem compradas e o preço total. O programa deve pedir o tamanho em metros quadrados da área a ser pintada.\n",
        "\n",
        "Dados:\n",
        "\n",
        "a) 1 litro de tinta para cada 3 metros quadrados.\n",
        "\n",
        "b) A lata da tinta custa R$ 80,00 e vem com 18 litros."
      ]
    },
    {
      "cell_type": "code",
      "metadata": {
        "id": "GK-_VVnk1qUZ",
        "colab_type": "code",
        "colab": {
          "base_uri": "https://localhost:8080/",
          "height": 68
        },
        "outputId": "8be1cba1-e917-4439-e256-63539d6f2f5d"
      },
      "source": [
        "area_pintada = float(input('Qual o valor em metros quadrados da área que será pintada?'))\n",
        "qtd_litros = area_pintada/3\n",
        "qtd_latas = qtd_litros*(1/18)\n",
        "\n",
        "preço_lata = 80\n",
        "litros_lata = 18\n",
        "\n",
        "\n",
        "total_latas = qtd_litros//litros_lata\n",
        "if total_latas == 0:\n",
        "  total_latas = 1\n",
        "else:\n",
        "  total_latas\n",
        "\n",
        "custo_total = preço_lata*total_latas\n",
        "\n",
        "print ('Você usará {:.0f} latas de tinta'.format(total_latas))\n",
        "print ('O preco total é de: R${:.2f}'.format(custo_total))"
      ],
      "execution_count": 88,
      "outputs": [
        {
          "output_type": "stream",
          "text": [
            "Qual o valor em metros quadrados da área que será pintada?400\n",
            "Você usará 7 latas de tinta\n",
            "O preco total é de: R$560.00\n"
          ],
          "name": "stdout"
        }
      ]
    },
    {
      "cell_type": "code",
      "metadata": {
        "id": "SCzTMuDM2g_o",
        "colab_type": "code",
        "colab": {
          "base_uri": "https://localhost:8080/",
          "height": 68
        },
        "outputId": "6493715b-4810-4eb3-d847-432292cb00e8"
      },
      "source": [
        "area_pintada = float(input('Qual o valor em metros quadrados da área que será pintada?'))\n",
        "qtd_litros = area_pintada/3\n",
        "qtd_latas = qtd_litros*(1/18)\n",
        "\n",
        "preço_lata = 80\n",
        "litros_lata = 18\n",
        "\n",
        "\n",
        "total_latas = qtd_litros//litros_lata\n",
        "if total_latas == 0:\n",
        "  total_latas = 1\n",
        "else:\n",
        "  total_latas\n",
        "\n",
        "custo_total = preço_lata*total_latas\n",
        "\n",
        "print ('Você usará {:.0f} latas de tinta'.format(total_latas))\n",
        "print ('O preco total é de: R${:.2f}'.format(custo_total))"
      ],
      "execution_count": 89,
      "outputs": [
        {
          "output_type": "stream",
          "text": [
            "Qual o valor em metros quadrados da área que será pintada?10\n",
            "Você usará 1 latas de tinta\n",
            "O preco total é de: R$80.00\n"
          ],
          "name": "stdout"
        }
      ]
    },
    {
      "cell_type": "code",
      "metadata": {
        "id": "4uN560ia3Nzu",
        "colab_type": "code",
        "colab": {
          "base_uri": "https://localhost:8080/",
          "height": 68
        },
        "outputId": "b514948c-bd4a-45cf-f3c0-2591cdb33568"
      },
      "source": [
        "area_pintada = float(input('Qual o valor em metros quadrados da área que será pintada?'))\n",
        "qtd_litros = area_pintada/3\n",
        "qtd_latas = qtd_litros*(1/18)\n",
        "\n",
        "preço_lata = 80\n",
        "litros_lata = 18\n",
        "\n",
        "\n",
        "total_latas = qtd_litros//litros_lata\n",
        "if total_latas == 0:\n",
        "  total_latas = 1\n",
        "else:\n",
        "  total_latas\n",
        "\n",
        "custo_total = preço_lata*total_latas\n",
        "\n",
        "print ('Você usará {:.0f} latas de tinta'.format(total_latas))\n",
        "print ('O preco total é de: R${:.2f}'.format(custo_total))"
      ],
      "execution_count": 90,
      "outputs": [
        {
          "output_type": "stream",
          "text": [
            "Qual o valor em metros quadrados da área que será pintada?1000\n",
            "Você usará 18 latas de tinta\n",
            "O preco total é de: R$1440.00\n"
          ],
          "name": "stdout"
        }
      ]
    },
    {
      "cell_type": "code",
      "metadata": {
        "id": "3K58AE4h3QE-",
        "colab_type": "code",
        "colab": {}
      },
      "source": [
        ""
      ],
      "execution_count": 0,
      "outputs": []
    }
  ]
}